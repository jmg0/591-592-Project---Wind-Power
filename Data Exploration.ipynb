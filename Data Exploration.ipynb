{
 "cells": [
  {
   "cell_type": "markdown",
   "metadata": {
    "collapsed": true,
    "pycharm": {
     "name": "#%% md\n"
    }
   },
   "source": [
    "# Data Exploration"
   ]
  },
  {
   "cell_type": "markdown",
   "source": [
    "## Imports"
   ],
   "metadata": {
    "collapsed": false
   }
  },
  {
   "cell_type": "code",
   "execution_count": 1,
   "outputs": [],
   "source": [
    "import numpy as np\n",
    "import pandas as pd\n",
    "import requests\n",
    "import shapefile\n",
    "import netCDF4\n",
    "import os"
   ],
   "metadata": {
    "collapsed": false,
    "pycharm": {
     "name": "#%%\n"
    }
   }
  },
  {
   "cell_type": "markdown",
   "source": [
    "## 1. USGS Wind Turbine Database\n",
    "\n",
    "Data retrieval method: API\n",
    "\n",
    "Documentation: https://eerscmap.usgs.gov/uswtdb/api-doc/\n",
    "\n",
    "Example request response for wind turbine with 'case_id'=3038257. Response data contains turbine ID ('case_id'), rated capacity ('t_cap'), dimensions, coordinates ('xlong' and 'ylat'), and other relevant data. Calling the json() method on the response object gives a list of dictionaries, where each dictionary represents a turbine from the response."
   ],
   "metadata": {
    "collapsed": false
   }
  },
  {
   "cell_type": "code",
   "execution_count": 9,
   "outputs": [
    {
     "data": {
      "text/plain": "{'case_id': 3038257,\n 'faa_ors': '19-022348',\n 'faa_asn': '2011-WTE-22311-OE',\n 'usgs_pr_id': 20977,\n 't_state': 'IA',\n 't_county': 'Story County',\n 't_fips': '19169',\n 'p_name': 'AG Land 4',\n 'p_year': 2012,\n 'p_tnum': 6,\n 'p_cap': 9.6,\n 't_manu': 'GE Wind',\n 't_model': 'GE1.6-82.5',\n 't_cap': 1600,\n 't_hh': 80.0,\n 't_rd': 82.5,\n 't_rsa': 5345.62,\n 't_ttlh': 121.3,\n 't_conf_atr': 3,\n 't_conf_loc': 3,\n 't_img_date': '1/1/2013',\n 't_img_srce': 'NAIP',\n 'xlong': -93.3549,\n 'ylat': 41.90419,\n 'eia_id': None}"
     },
     "execution_count": 9,
     "metadata": {},
     "output_type": "execute_result"
    }
   ],
   "source": [
    "base_path = 'https://eersc.usgs.gov/api/uswtdb/v1/'\n",
    "resp = requests.get(f\"{base_path}turbines?&case_id=eq.3038257\")\n",
    "resp.json()[0]"
   ],
   "metadata": {
    "collapsed": false,
    "pycharm": {
     "name": "#%%\n"
    }
   }
  },
  {
   "cell_type": "markdown",
   "source": [
    "Example request for multiple turbines in USWTDB"
   ],
   "metadata": {
    "collapsed": false,
    "pycharm": {
     "name": "#%% md\n"
    }
   }
  },
  {
   "cell_type": "code",
   "execution_count": 22,
   "outputs": [
    {
     "data": {
      "text/plain": "[{'case_id': 3005443,\n  'faa_ors': None,\n  'faa_asn': None,\n  'usgs_pr_id': 5840,\n  't_state': 'CA',\n  't_county': 'Kern County',\n  't_fips': '6029',\n  'p_name': '251 Wind',\n  'p_year': 1987,\n  'p_tnum': 194,\n  'p_cap': 18.43,\n  't_manu': 'Vestas',\n  't_model': None,\n  't_cap': 95,\n  't_hh': None,\n  't_rd': None,\n  't_rsa': None,\n  't_ttlh': None,\n  't_conf_atr': 2,\n  't_conf_loc': 3,\n  't_img_date': '5/8/2018',\n  't_img_srce': 'Digital Globe',\n  'xlong': -118.35109,\n  'ylat': 35.0919,\n  'eia_id': 52161},\n {'case_id': 3072704,\n  'faa_ors': None,\n  'faa_asn': None,\n  'usgs_pr_id': 5146,\n  't_state': 'CA',\n  't_county': 'Kern County',\n  't_fips': '6029',\n  'p_name': '251 Wind',\n  'p_year': 1987,\n  'p_tnum': 194,\n  'p_cap': 18.43,\n  't_manu': 'Vestas',\n  't_model': None,\n  't_cap': 95,\n  't_hh': None,\n  't_rd': None,\n  't_rsa': None,\n  't_ttlh': None,\n  't_conf_atr': 2,\n  't_conf_loc': 3,\n  't_img_date': '5/8/2018',\n  't_img_srce': 'Digital Globe',\n  'xlong': -118.3642,\n  'ylat': 35.07764,\n  'eia_id': 52161},\n {'case_id': 3072695,\n  'faa_ors': None,\n  'faa_asn': None,\n  'usgs_pr_id': 5143,\n  't_state': 'CA',\n  't_county': 'Kern County',\n  't_fips': '6029',\n  'p_name': '251 Wind',\n  'p_year': 1987,\n  'p_tnum': 194,\n  'p_cap': 18.43,\n  't_manu': 'Vestas',\n  't_model': None,\n  't_cap': 95,\n  't_hh': None,\n  't_rd': None,\n  't_rsa': None,\n  't_ttlh': None,\n  't_conf_atr': 2,\n  't_conf_loc': 3,\n  't_img_date': '5/8/2018',\n  't_img_srce': 'Digital Globe',\n  'xlong': -118.36441,\n  'ylat': 35.07744,\n  'eia_id': 52161},\n {'case_id': 3072661,\n  'faa_ors': None,\n  'faa_asn': None,\n  'usgs_pr_id': 5149,\n  't_state': 'CA',\n  't_county': 'Kern County',\n  't_fips': '6029',\n  'p_name': '251 Wind',\n  'p_year': 1987,\n  'p_tnum': 194,\n  'p_cap': 18.43,\n  't_manu': 'Vestas',\n  't_model': None,\n  't_cap': 95,\n  't_hh': None,\n  't_rd': None,\n  't_rsa': None,\n  't_ttlh': None,\n  't_conf_atr': 2,\n  't_conf_loc': 3,\n  't_img_date': '5/8/2018',\n  't_img_srce': 'Digital Globe',\n  'xlong': -118.36376,\n  'ylat': 35.07791,\n  'eia_id': 52161},\n {'case_id': 3005333,\n  'faa_ors': None,\n  'faa_asn': None,\n  'usgs_pr_id': 5109,\n  't_state': 'CA',\n  't_county': 'Kern County',\n  't_fips': '6029',\n  'p_name': '251 Wind',\n  'p_year': 1987,\n  'p_tnum': 194,\n  'p_cap': 18.43,\n  't_manu': 'Vestas',\n  't_model': None,\n  't_cap': 95,\n  't_hh': None,\n  't_rd': None,\n  't_rsa': None,\n  't_ttlh': None,\n  't_conf_atr': 2,\n  't_conf_loc': 3,\n  't_img_date': '5/8/2018',\n  't_img_srce': 'Digital Globe',\n  'xlong': -118.36869,\n  'ylat': 35.07529,\n  'eia_id': 52161}]"
     },
     "execution_count": 22,
     "metadata": {},
     "output_type": "execute_result"
    }
   ],
   "source": [
    "params = {'offset': 0, 'limit': 5}\n",
    "resp = requests.get(f\"{base_path}turbines\", params=params)\n",
    "turbine_data = resp.json()\n",
    "turbine_data"
   ],
   "metadata": {
    "collapsed": false,
    "pycharm": {
     "name": "#%%\n"
    }
   }
  },
  {
   "cell_type": "markdown",
   "source": [
    "Convert response to DataFrame"
   ],
   "metadata": {
    "collapsed": false,
    "pycharm": {
     "name": "#%% md\n"
    }
   }
  },
  {
   "cell_type": "code",
   "execution_count": 23,
   "outputs": [
    {
     "data": {
      "text/plain": "   case_id faa_ors faa_asn  usgs_pr_id t_state     t_county t_fips    p_name  \\\n0  3005443    None    None        5840      CA  Kern County   6029  251 Wind   \n1  3072704    None    None        5146      CA  Kern County   6029  251 Wind   \n2  3072695    None    None        5143      CA  Kern County   6029  251 Wind   \n3  3072661    None    None        5149      CA  Kern County   6029  251 Wind   \n4  3005333    None    None        5109      CA  Kern County   6029  251 Wind   \n\n   p_year  p_tnum  ...  t_rd t_rsa t_ttlh  t_conf_atr t_conf_loc t_img_date  \\\n0    1987     194  ...  None  None   None           2          3   5/8/2018   \n1    1987     194  ...  None  None   None           2          3   5/8/2018   \n2    1987     194  ...  None  None   None           2          3   5/8/2018   \n3    1987     194  ...  None  None   None           2          3   5/8/2018   \n4    1987     194  ...  None  None   None           2          3   5/8/2018   \n\n      t_img_srce      xlong      ylat  eia_id  \n0  Digital Globe -118.35109  35.09190   52161  \n1  Digital Globe -118.36420  35.07764   52161  \n2  Digital Globe -118.36441  35.07744   52161  \n3  Digital Globe -118.36376  35.07791   52161  \n4  Digital Globe -118.36869  35.07529   52161  \n\n[5 rows x 25 columns]",
      "text/html": "<div>\n<style scoped>\n    .dataframe tbody tr th:only-of-type {\n        vertical-align: middle;\n    }\n\n    .dataframe tbody tr th {\n        vertical-align: top;\n    }\n\n    .dataframe thead th {\n        text-align: right;\n    }\n</style>\n<table border=\"1\" class=\"dataframe\">\n  <thead>\n    <tr style=\"text-align: right;\">\n      <th></th>\n      <th>case_id</th>\n      <th>faa_ors</th>\n      <th>faa_asn</th>\n      <th>usgs_pr_id</th>\n      <th>t_state</th>\n      <th>t_county</th>\n      <th>t_fips</th>\n      <th>p_name</th>\n      <th>p_year</th>\n      <th>p_tnum</th>\n      <th>...</th>\n      <th>t_rd</th>\n      <th>t_rsa</th>\n      <th>t_ttlh</th>\n      <th>t_conf_atr</th>\n      <th>t_conf_loc</th>\n      <th>t_img_date</th>\n      <th>t_img_srce</th>\n      <th>xlong</th>\n      <th>ylat</th>\n      <th>eia_id</th>\n    </tr>\n  </thead>\n  <tbody>\n    <tr>\n      <th>0</th>\n      <td>3005443</td>\n      <td>None</td>\n      <td>None</td>\n      <td>5840</td>\n      <td>CA</td>\n      <td>Kern County</td>\n      <td>6029</td>\n      <td>251 Wind</td>\n      <td>1987</td>\n      <td>194</td>\n      <td>...</td>\n      <td>None</td>\n      <td>None</td>\n      <td>None</td>\n      <td>2</td>\n      <td>3</td>\n      <td>5/8/2018</td>\n      <td>Digital Globe</td>\n      <td>-118.35109</td>\n      <td>35.09190</td>\n      <td>52161</td>\n    </tr>\n    <tr>\n      <th>1</th>\n      <td>3072704</td>\n      <td>None</td>\n      <td>None</td>\n      <td>5146</td>\n      <td>CA</td>\n      <td>Kern County</td>\n      <td>6029</td>\n      <td>251 Wind</td>\n      <td>1987</td>\n      <td>194</td>\n      <td>...</td>\n      <td>None</td>\n      <td>None</td>\n      <td>None</td>\n      <td>2</td>\n      <td>3</td>\n      <td>5/8/2018</td>\n      <td>Digital Globe</td>\n      <td>-118.36420</td>\n      <td>35.07764</td>\n      <td>52161</td>\n    </tr>\n    <tr>\n      <th>2</th>\n      <td>3072695</td>\n      <td>None</td>\n      <td>None</td>\n      <td>5143</td>\n      <td>CA</td>\n      <td>Kern County</td>\n      <td>6029</td>\n      <td>251 Wind</td>\n      <td>1987</td>\n      <td>194</td>\n      <td>...</td>\n      <td>None</td>\n      <td>None</td>\n      <td>None</td>\n      <td>2</td>\n      <td>3</td>\n      <td>5/8/2018</td>\n      <td>Digital Globe</td>\n      <td>-118.36441</td>\n      <td>35.07744</td>\n      <td>52161</td>\n    </tr>\n    <tr>\n      <th>3</th>\n      <td>3072661</td>\n      <td>None</td>\n      <td>None</td>\n      <td>5149</td>\n      <td>CA</td>\n      <td>Kern County</td>\n      <td>6029</td>\n      <td>251 Wind</td>\n      <td>1987</td>\n      <td>194</td>\n      <td>...</td>\n      <td>None</td>\n      <td>None</td>\n      <td>None</td>\n      <td>2</td>\n      <td>3</td>\n      <td>5/8/2018</td>\n      <td>Digital Globe</td>\n      <td>-118.36376</td>\n      <td>35.07791</td>\n      <td>52161</td>\n    </tr>\n    <tr>\n      <th>4</th>\n      <td>3005333</td>\n      <td>None</td>\n      <td>None</td>\n      <td>5109</td>\n      <td>CA</td>\n      <td>Kern County</td>\n      <td>6029</td>\n      <td>251 Wind</td>\n      <td>1987</td>\n      <td>194</td>\n      <td>...</td>\n      <td>None</td>\n      <td>None</td>\n      <td>None</td>\n      <td>2</td>\n      <td>3</td>\n      <td>5/8/2018</td>\n      <td>Digital Globe</td>\n      <td>-118.36869</td>\n      <td>35.07529</td>\n      <td>52161</td>\n    </tr>\n  </tbody>\n</table>\n<p>5 rows × 25 columns</p>\n</div>"
     },
     "execution_count": 23,
     "metadata": {},
     "output_type": "execute_result"
    }
   ],
   "source": [
    "df = pd.DataFrame(turbine_data)\n",
    "df.head()"
   ],
   "metadata": {
    "collapsed": false,
    "pycharm": {
     "name": "#%%\n"
    }
   }
  },
  {
   "cell_type": "markdown",
   "source": [
    "The API will overload if a request corresponds to too many records. We can work around this by calling the API in smaller batches."
   ],
   "metadata": {
    "collapsed": false
   }
  },
  {
   "cell_type": "code",
   "execution_count": 15,
   "outputs": [
    {
     "data": {
      "text/plain": "<Response [200]>"
     },
     "execution_count": 15,
     "metadata": {},
     "output_type": "execute_result"
    }
   ],
   "source": [
    "# Initial call to API with response limit of 50 records\n",
    "turbine_df = pd.DataFrame()\n",
    "offset, limit = 0, 50\n",
    "params = {'offset': offset, 'limit': limit}\n",
    "resp = requests.get(f\"{base_path}turbines\", params=params)\n",
    "turbine_data = resp.json()\n",
    "\n",
    "# This loop calls the API and adds the response records to turbine_df\n",
    "# until it has returned all turbines in the USWTDB\n",
    "while len(turbine_data):\n",
    "    df = pd.DataFrame(turbine_data)\n",
    "    turbine_df = pd.concat([turbine_df, df])\n",
    "    offset += limit\n",
    "    resp = requests.get(f\"{base_path}turbines\", params=params)\n",
    "    turbine_data = resp.json()\n",
    "\n",
    "turbine_data.head()"
   ],
   "metadata": {
    "collapsed": false,
    "pycharm": {
     "name": "#%%\n"
    }
   }
  },
  {
   "cell_type": "markdown",
   "source": [
    "For best practices, here's the above code as a function."
   ],
   "metadata": {
    "collapsed": false,
    "pycharm": {
     "name": "#%% md\n"
    }
   }
  },
  {
   "cell_type": "code",
   "execution_count": 29,
   "outputs": [],
   "source": [
    "\"\"\"\n",
    "Parameters:\n",
    "    offset - record index from which API response should begin; default 0\n",
    "    limit - max number of records to return in each API call; default 50\n",
    "    params - dict of query parameters for API call; default None,\n",
    "             initialized with default offset and limit values\n",
    "\n",
    "Returns:\n",
    "    turbine_df - pandas DataFrame object containing records for all turbines\n",
    "                 corresponding to query\n",
    "\"\"\"\n",
    "def USWTDB_data(offset=0, limit=50, params=None):\n",
    "    base_path = 'https://eersc.usgs.gov/api/uswtdb/v1/'\n",
    "    if not params:\n",
    "        params = {'offset': offset, 'limit': limit}\n",
    "    else:\n",
    "        params['offset'] = params.get('offset', offset)\n",
    "        params['limit'] = params.get('limit', limit)\n",
    "\n",
    "    turbine_df = pd.DataFrame()\n",
    "    resp = requests.get(f\"{base_path}turbines\", params=params)\n",
    "    turbine_data = resp.json()\n",
    "\n",
    "    while len(turbine_data):\n",
    "        df = pd.DataFrame(turbine_data)\n",
    "        turbine_df = pd.concat([turbine_df, df])\n",
    "        offset += limit\n",
    "        resp = requests.get(f\"{base_path}turbines\", params=params)\n",
    "        turbine_data = resp.json()\n",
    "\n",
    "    return turbine_df"
   ],
   "metadata": {
    "collapsed": false,
    "pycharm": {
     "name": "#%%\n"
    }
   }
  },
  {
   "cell_type": "markdown",
   "source": [
    "## 2. USA Major Cities Dataset\n",
    "\n",
    "Data retrieval method:\n",
    "- Data file - CSV download (data/USA_Major_Cities.csv)\n",
    "- Geographic data - Shapefile download (data/USA_Major_Cities_SHP/)\n",
    "\n",
    "Documentation: https://hub.arcgis.com/datasets/esri::usa-major-cities"
   ],
   "metadata": {
    "collapsed": false
   }
  },
  {
   "cell_type": "markdown",
   "source": [
    "### Data file"
   ],
   "metadata": {
    "collapsed": false,
    "pycharm": {
     "name": "#%% md\n"
    }
   }
  },
  {
   "cell_type": "code",
   "execution_count": 30,
   "outputs": [
    {
     "data": {
      "text/plain": "   FID        NAME CLASS  ST  STFIPS  PLACEFIPS CAPITAL  POP_CLASS  \\\n0    1       Ammon  city  ID      16    1601990                  6   \n1    2   Blackfoot  city  ID      16    1607840                  6   \n2    3  Boise City  city  ID      16    1608830   State          8   \n3    4      Burley  city  ID      16    1611260                  6   \n4    5    Caldwell  city  ID      16    1612250                  7   \n\n   POPULATION  POP2010  ...  MARHH_CHD  MARHH_NO_C  MHH_CHILD  FHH_CHILD  \\\n0       15181    13816  ...       1618        1131        106        335   \n1       11946    11899  ...       1091        1081        174        381   \n2      225405   205671  ...      16708       21233       2414       5919   \n3       10727    10345  ...        950         861        139        358   \n4       53942    46237  ...       4407        3113        686       1755   \n\n   FAMILIES  AVE_FAM_SZ  HSE_UNITS  VACANT  OWNER_OCC  RENTER_OCC  \n0      3352        3.61       4747     271       3205        1271  \n1      2958        3.31       4547     318       2788        1441  \n2     50647        2.97      92700    6996      52345       33359  \n3      2499        3.37       3885     241       2183        1461  \n4     10776        3.51      16323    1428       9699        5196  \n\n[5 rows x 49 columns]",
      "text/html": "<div>\n<style scoped>\n    .dataframe tbody tr th:only-of-type {\n        vertical-align: middle;\n    }\n\n    .dataframe tbody tr th {\n        vertical-align: top;\n    }\n\n    .dataframe thead th {\n        text-align: right;\n    }\n</style>\n<table border=\"1\" class=\"dataframe\">\n  <thead>\n    <tr style=\"text-align: right;\">\n      <th></th>\n      <th>FID</th>\n      <th>NAME</th>\n      <th>CLASS</th>\n      <th>ST</th>\n      <th>STFIPS</th>\n      <th>PLACEFIPS</th>\n      <th>CAPITAL</th>\n      <th>POP_CLASS</th>\n      <th>POPULATION</th>\n      <th>POP2010</th>\n      <th>...</th>\n      <th>MARHH_CHD</th>\n      <th>MARHH_NO_C</th>\n      <th>MHH_CHILD</th>\n      <th>FHH_CHILD</th>\n      <th>FAMILIES</th>\n      <th>AVE_FAM_SZ</th>\n      <th>HSE_UNITS</th>\n      <th>VACANT</th>\n      <th>OWNER_OCC</th>\n      <th>RENTER_OCC</th>\n    </tr>\n  </thead>\n  <tbody>\n    <tr>\n      <th>0</th>\n      <td>1</td>\n      <td>Ammon</td>\n      <td>city</td>\n      <td>ID</td>\n      <td>16</td>\n      <td>1601990</td>\n      <td></td>\n      <td>6</td>\n      <td>15181</td>\n      <td>13816</td>\n      <td>...</td>\n      <td>1618</td>\n      <td>1131</td>\n      <td>106</td>\n      <td>335</td>\n      <td>3352</td>\n      <td>3.61</td>\n      <td>4747</td>\n      <td>271</td>\n      <td>3205</td>\n      <td>1271</td>\n    </tr>\n    <tr>\n      <th>1</th>\n      <td>2</td>\n      <td>Blackfoot</td>\n      <td>city</td>\n      <td>ID</td>\n      <td>16</td>\n      <td>1607840</td>\n      <td></td>\n      <td>6</td>\n      <td>11946</td>\n      <td>11899</td>\n      <td>...</td>\n      <td>1091</td>\n      <td>1081</td>\n      <td>174</td>\n      <td>381</td>\n      <td>2958</td>\n      <td>3.31</td>\n      <td>4547</td>\n      <td>318</td>\n      <td>2788</td>\n      <td>1441</td>\n    </tr>\n    <tr>\n      <th>2</th>\n      <td>3</td>\n      <td>Boise City</td>\n      <td>city</td>\n      <td>ID</td>\n      <td>16</td>\n      <td>1608830</td>\n      <td>State</td>\n      <td>8</td>\n      <td>225405</td>\n      <td>205671</td>\n      <td>...</td>\n      <td>16708</td>\n      <td>21233</td>\n      <td>2414</td>\n      <td>5919</td>\n      <td>50647</td>\n      <td>2.97</td>\n      <td>92700</td>\n      <td>6996</td>\n      <td>52345</td>\n      <td>33359</td>\n    </tr>\n    <tr>\n      <th>3</th>\n      <td>4</td>\n      <td>Burley</td>\n      <td>city</td>\n      <td>ID</td>\n      <td>16</td>\n      <td>1611260</td>\n      <td></td>\n      <td>6</td>\n      <td>10727</td>\n      <td>10345</td>\n      <td>...</td>\n      <td>950</td>\n      <td>861</td>\n      <td>139</td>\n      <td>358</td>\n      <td>2499</td>\n      <td>3.37</td>\n      <td>3885</td>\n      <td>241</td>\n      <td>2183</td>\n      <td>1461</td>\n    </tr>\n    <tr>\n      <th>4</th>\n      <td>5</td>\n      <td>Caldwell</td>\n      <td>city</td>\n      <td>ID</td>\n      <td>16</td>\n      <td>1612250</td>\n      <td></td>\n      <td>7</td>\n      <td>53942</td>\n      <td>46237</td>\n      <td>...</td>\n      <td>4407</td>\n      <td>3113</td>\n      <td>686</td>\n      <td>1755</td>\n      <td>10776</td>\n      <td>3.51</td>\n      <td>16323</td>\n      <td>1428</td>\n      <td>9699</td>\n      <td>5196</td>\n    </tr>\n  </tbody>\n</table>\n<p>5 rows × 49 columns</p>\n</div>"
     },
     "execution_count": 30,
     "metadata": {},
     "output_type": "execute_result"
    }
   ],
   "source": [
    "df = pd.read_csv('./data/USA_Major_Cities.csv')\n",
    "df.head()"
   ],
   "metadata": {
    "collapsed": false,
    "pycharm": {
     "name": "#%%\n"
    }
   }
  },
  {
   "cell_type": "markdown",
   "source": [
    "### Shapefile\n",
    "\n",
    "The code below reads the Shapefile and shows that it contains 3886 shapes (one for each record in the CSV file).\n",
    "\n",
    "See https://code.google.com/archive/p/pyshp/wikis/PyShpDocs.wiki for PyShp info."
   ],
   "metadata": {
    "collapsed": false
   }
  },
  {
   "cell_type": "code",
   "execution_count": 2,
   "outputs": [
    {
     "data": {
      "text/plain": "3886"
     },
     "execution_count": 2,
     "metadata": {},
     "output_type": "execute_result"
    }
   ],
   "source": [
    "sf = shapefile.Reader('././data/USA_Major_Cities_SHP/0c5a2fa1-3463-4fc7-99e5-e206023a7e682020313-1-nmlntcmln9c')\n",
    "len(sf.shapes())"
   ],
   "metadata": {
    "collapsed": false,
    "pycharm": {
     "name": "#%%\n"
    }
   }
  },
  {
   "cell_type": "markdown",
   "source": [
    "The 'points' attribute gives the longitude and latitude of each city (each shape object in sf.shapes() represents a city in this case)."
   ],
   "metadata": {
    "collapsed": false,
    "pycharm": {
     "name": "#%% md\n"
    }
   }
  },
  {
   "cell_type": "code",
   "execution_count": 13,
   "outputs": [
    {
     "data": {
      "text/plain": "[[-111.95410286999999, 43.47579235600005]]"
     },
     "execution_count": 13,
     "metadata": {},
     "output_type": "execute_result"
    }
   ],
   "source": [
    "sf.shapes()[0].points"
   ],
   "metadata": {
    "collapsed": false,
    "pycharm": {
     "name": "#%%\n"
    }
   }
  },
  {
   "cell_type": "markdown",
   "source": [
    "The records() method gives the attributes for each city in the shapefile. These attributes are the same as those contained in the CSV file above."
   ],
   "metadata": {
    "collapsed": false,
    "pycharm": {
     "name": "#%% md\n"
    }
   }
  },
  {
   "cell_type": "code",
   "execution_count": 21,
   "outputs": [
    {
     "data": {
      "text/plain": "{'FID': 1,\n 'NAME': 'Ammon',\n 'CLASS': 'city',\n 'ST': 'ID',\n 'STFIPS': '16',\n 'PLACEFIPS': '1601990',\n 'CAPITAL': '',\n 'POP_CLASS': 6,\n 'POPULATION': 15181,\n 'POP2010': 13816,\n 'WHITE': 13002,\n 'BLACK': 73,\n 'AMERI_ES': 67,\n 'ASIAN': 113,\n 'HAWN_PI': 9,\n 'HISPANIC': 884,\n 'OTHER': 307,\n 'MULT_RACE': 245,\n 'MALES': 6750,\n 'FEMALES': 7066,\n 'AGE_UNDER5': 1468,\n 'AGE_5_9': 1503,\n 'AGE_10_14': 1313,\n 'AGE_15_19': 1058,\n 'AGE_20_24': 734,\n 'AGE_25_34': 2031,\n 'AGE_35_44': 1767,\n 'AGE_45_54': 1446,\n 'AGE_55_64': 1136,\n 'AGE_65_74': 665,\n 'AGE_75_84': 486,\n 'AGE_85_UP': 209,\n 'MED_AGE': 29.6,\n 'MED_AGE_M': 28.0,\n 'MED_AGE_F': 30.8,\n 'HOUSEHOLDS': 4476,\n 'AVE_HH_SZ': 3.05,\n 'HSEHLD_1_M': 457,\n 'HSEHLD_1_F': 648,\n 'MARHH_CHD': 1618,\n 'MARHH_NO_C': 1131,\n 'MHH_CHILD': 106,\n 'FHH_CHILD': 335,\n 'FAMILIES': 3352,\n 'AVE_FAM_SZ': 3.61,\n 'HSE_UNITS': 4747,\n 'VACANT': 271,\n 'OWNER_OCC': 3205,\n 'RENTER_OCC': 1271}"
     },
     "execution_count": 21,
     "metadata": {},
     "output_type": "execute_result"
    }
   ],
   "source": [
    "sf.records()[0].as_dict()"
   ],
   "metadata": {
    "collapsed": false,
    "pycharm": {
     "name": "#%%\n"
    }
   }
  },
  {
   "cell_type": "markdown",
   "source": [
    "Not that it's necessarily needed, but we could recreate the dataframe from the CSV with additional fields for latitude and longitude."
   ],
   "metadata": {
    "collapsed": false,
    "pycharm": {
     "name": "#%% md\n"
    }
   }
  },
  {
   "cell_type": "code",
   "execution_count": 24,
   "outputs": [
    {
     "data": {
      "text/plain": "   FID        NAME CLASS  ST STFIPS PLACEFIPS CAPITAL  POP_CLASS  POPULATION  \\\n0    1       Ammon  city  ID     16   1601990                  6       15181   \n1    2   Blackfoot  city  ID     16   1607840                  6       11946   \n2    3  Boise City  city  ID     16   1608830   State          8      225405   \n3    4      Burley  city  ID     16   1611260                  6       10727   \n4    5    Caldwell  city  ID     16   1612250                  7       53942   \n\n   POP2010  ...  MHH_CHILD  FHH_CHILD  FAMILIES  AVE_FAM_SZ  HSE_UNITS  \\\n0    13816  ...        106        335      3352        3.61       4747   \n1    11899  ...        174        381      2958        3.31       4547   \n2   205671  ...       2414       5919     50647        2.97      92700   \n3    10345  ...        139        358      2499        3.37       3885   \n4    46237  ...        686       1755     10776        3.51      16323   \n\n   VACANT  OWNER_OCC  RENTER_OCC   latitude   longitude  \n0     271       3205        1271  43.475792 -111.954103  \n1     318       2788        1441  43.193937 -112.345567  \n2    6996      52345       33359  43.599015 -116.230110  \n3     241       2183        1461  42.536741 -113.793293  \n4    1428       9699        5196  43.661626 -116.685619  \n\n[5 rows x 51 columns]",
      "text/html": "<div>\n<style scoped>\n    .dataframe tbody tr th:only-of-type {\n        vertical-align: middle;\n    }\n\n    .dataframe tbody tr th {\n        vertical-align: top;\n    }\n\n    .dataframe thead th {\n        text-align: right;\n    }\n</style>\n<table border=\"1\" class=\"dataframe\">\n  <thead>\n    <tr style=\"text-align: right;\">\n      <th></th>\n      <th>FID</th>\n      <th>NAME</th>\n      <th>CLASS</th>\n      <th>ST</th>\n      <th>STFIPS</th>\n      <th>PLACEFIPS</th>\n      <th>CAPITAL</th>\n      <th>POP_CLASS</th>\n      <th>POPULATION</th>\n      <th>POP2010</th>\n      <th>...</th>\n      <th>MHH_CHILD</th>\n      <th>FHH_CHILD</th>\n      <th>FAMILIES</th>\n      <th>AVE_FAM_SZ</th>\n      <th>HSE_UNITS</th>\n      <th>VACANT</th>\n      <th>OWNER_OCC</th>\n      <th>RENTER_OCC</th>\n      <th>latitude</th>\n      <th>longitude</th>\n    </tr>\n  </thead>\n  <tbody>\n    <tr>\n      <th>0</th>\n      <td>1</td>\n      <td>Ammon</td>\n      <td>city</td>\n      <td>ID</td>\n      <td>16</td>\n      <td>1601990</td>\n      <td></td>\n      <td>6</td>\n      <td>15181</td>\n      <td>13816</td>\n      <td>...</td>\n      <td>106</td>\n      <td>335</td>\n      <td>3352</td>\n      <td>3.61</td>\n      <td>4747</td>\n      <td>271</td>\n      <td>3205</td>\n      <td>1271</td>\n      <td>43.475792</td>\n      <td>-111.954103</td>\n    </tr>\n    <tr>\n      <th>1</th>\n      <td>2</td>\n      <td>Blackfoot</td>\n      <td>city</td>\n      <td>ID</td>\n      <td>16</td>\n      <td>1607840</td>\n      <td></td>\n      <td>6</td>\n      <td>11946</td>\n      <td>11899</td>\n      <td>...</td>\n      <td>174</td>\n      <td>381</td>\n      <td>2958</td>\n      <td>3.31</td>\n      <td>4547</td>\n      <td>318</td>\n      <td>2788</td>\n      <td>1441</td>\n      <td>43.193937</td>\n      <td>-112.345567</td>\n    </tr>\n    <tr>\n      <th>2</th>\n      <td>3</td>\n      <td>Boise City</td>\n      <td>city</td>\n      <td>ID</td>\n      <td>16</td>\n      <td>1608830</td>\n      <td>State</td>\n      <td>8</td>\n      <td>225405</td>\n      <td>205671</td>\n      <td>...</td>\n      <td>2414</td>\n      <td>5919</td>\n      <td>50647</td>\n      <td>2.97</td>\n      <td>92700</td>\n      <td>6996</td>\n      <td>52345</td>\n      <td>33359</td>\n      <td>43.599015</td>\n      <td>-116.230110</td>\n    </tr>\n    <tr>\n      <th>3</th>\n      <td>4</td>\n      <td>Burley</td>\n      <td>city</td>\n      <td>ID</td>\n      <td>16</td>\n      <td>1611260</td>\n      <td></td>\n      <td>6</td>\n      <td>10727</td>\n      <td>10345</td>\n      <td>...</td>\n      <td>139</td>\n      <td>358</td>\n      <td>2499</td>\n      <td>3.37</td>\n      <td>3885</td>\n      <td>241</td>\n      <td>2183</td>\n      <td>1461</td>\n      <td>42.536741</td>\n      <td>-113.793293</td>\n    </tr>\n    <tr>\n      <th>4</th>\n      <td>5</td>\n      <td>Caldwell</td>\n      <td>city</td>\n      <td>ID</td>\n      <td>16</td>\n      <td>1612250</td>\n      <td></td>\n      <td>7</td>\n      <td>53942</td>\n      <td>46237</td>\n      <td>...</td>\n      <td>686</td>\n      <td>1755</td>\n      <td>10776</td>\n      <td>3.51</td>\n      <td>16323</td>\n      <td>1428</td>\n      <td>9699</td>\n      <td>5196</td>\n      <td>43.661626</td>\n      <td>-116.685619</td>\n    </tr>\n  </tbody>\n</table>\n<p>5 rows × 51 columns</p>\n</div>"
     },
     "execution_count": 24,
     "metadata": {},
     "output_type": "execute_result"
    }
   ],
   "source": [
    "items = list()\n",
    "for record, shape in zip(sf.records(), sf.shapes()):\n",
    "    attributes = record.as_dict()\n",
    "    attributes['latitude'] = shape.points[0][1]\n",
    "    attributes['longitude'] = shape.points[0][0]\n",
    "    items.append(attributes)\n",
    "\n",
    "df = pd.DataFrame(items)\n",
    "df.head()"
   ],
   "metadata": {
    "collapsed": false,
    "pycharm": {
     "name": "#%%\n"
    }
   }
  },
  {
   "cell_type": "markdown",
   "source": [
    "## 3. U.S. Census Cartographic Boundary Dataset"
   ],
   "metadata": {
    "collapsed": false
   }
  },
  {
   "cell_type": "code",
   "execution_count": null,
   "outputs": [],
   "source": [
    "# Need to confirm exactly which files we're going to use, but processing will be similar to above."
   ],
   "metadata": {
    "collapsed": false,
    "pycharm": {
     "name": "#%%\n"
    }
   }
  },
  {
   "cell_type": "markdown",
   "source": [
    "## 4. NOAA U.S. Annual Wind Speed Dataset\n",
    "NetCDF files containing 2020 wind speed data.\n",
    "\n",
    "Data retrieval:\n",
    "- U-wind or east-west wind component (test file: data/uwnd.sig995.2020.nc)\n",
    "- V-wind or north-south wind component (test file: data/vwnd.sig995.2020.nc)\n",
    "- U- and V- wind speed data from last 10 years for analysis (data/Wind_Speed_Data/)\n",
    "\n",
    "Documentation for netCDF4 library: https://unidata.github.io/netcdf4-python/netCDF4/index.html\n",
    "\n",
    "Load the files:"
   ],
   "metadata": {
    "collapsed": false
   }
  },
  {
   "cell_type": "code",
   "execution_count": 38,
   "outputs": [],
   "source": [
    "f_uwind = netCDF4.Dataset('data/uwnd.sig995.2020.nc')\n",
    "f_vwind = netCDF4.Dataset('data/vwnd.sig995.2020.nc')"
   ],
   "metadata": {
    "collapsed": false,
    "pycharm": {
     "name": "#%%\n"
    }
   }
  },
  {
   "cell_type": "markdown",
   "source": [
    "The wind speed files are composed of three-dimensional arrays. The numerical elements represent the wind speed at a given longitude and latitude on a given day. The outermost elements are lists representing days, the second outermost elements are lists representing latitudes, and the elements of those lists are numbers (representing wind speed), whose index corresponds to a longitude. The structure is illustrated below.\n",
    "\n",
    "data = [ day1, day2, ... , day_355 ]\n",
    "day_i = [ lat1, lat2, ... , lat73 ]\n",
    "lat_j = [ lon1, lon2, ... , lon144 ]\n",
    "\n",
    "That is, data[i][j][k] is the wind speed at (lon[k], lat[j]) on day[i].\n",
    "\n",
    "Note: There are only 355 days listed for 2020 because the data was initially downloaded on 12-22-20. The data should be re-downloaded before final analysis.\n",
    "\n",
    "Below is a demonstration that calculates the 2020 mean U-wind speed for each latitude and longitude."
   ],
   "metadata": {
    "collapsed": false,
    "pycharm": {
     "name": "#%% md\n"
    }
   }
  },
  {
   "cell_type": "code",
   "execution_count": 37,
   "outputs": [
    {
     "data": {
      "text/plain": "array([[ 0.52704325,  0.47584605,  0.42387421, ...,  0.67302916,\n         0.62612777,  0.57711365],\n       [ 0.16281785,  0.11739536,  0.06929676, ...,  0.27640944,\n         0.24169113,  0.20317   ],\n       [ 1.1834517 ,  0.97429676,  0.76169112, ...,  1.7559869 ,\n         1.58260662,  1.38859252],\n       ...,\n       [-3.01330887, -2.5580976 , -2.14725254, ..., -4.64626661,\n        -4.06161873, -3.51556239],\n       [-2.10359057, -1.63844971, -1.17978775, ..., -3.51182999,\n        -3.04175958, -2.57182999],\n       [-0.58823846, -0.46013986, -0.33105534, ..., -0.96535114,\n        -0.84070323, -0.7155624 ]])"
     },
     "execution_count": 37,
     "metadata": {},
     "output_type": "execute_result"
    }
   ],
   "source": [
    "n_lat = f_uwind.dimensions['lat'].size\n",
    "n_lon = f_uwind.dimensions['lon'].size\n",
    "n_days = f_uwind.dimensions['time'].size\n",
    "\n",
    "mean_u_wind_speed = np.zeros((n_lat, n_lon))\n",
    "for day in f_uwind.variables['uwnd'][:]:\n",
    "    for i in range(n_lat):\n",
    "        for j in range(n_lon):\n",
    "            mean_u_wind_speed[i][j] += day[i][j]\n",
    "mean_u_wind_speed = mean_u_wind_speed / n_days\n",
    "mean_u_wind_speed"
   ],
   "metadata": {
    "collapsed": false,
    "pycharm": {
     "name": "#%%\n"
    }
   }
  },
  {
   "cell_type": "markdown",
   "source": [
    "The following functions extract and manipulate wind speed data from a single netcdf file."
   ],
   "metadata": {
    "collapsed": false,
    "pycharm": {
     "name": "#%% md\n"
    }
   }
  },
  {
   "cell_type": "code",
   "execution_count": 70,
   "outputs": [],
   "source": [
    "\"\"\"\n",
    "Parameters:\n",
    "    file - path to valid NetCDF4 wind speed file; designed for\n",
    "           NOAA U-wind and V-wind files; default 'data/uwnd.sig995.2020.nc'\n",
    "\n",
    "Returns:\n",
    "    mean_speed - a n_lat x n_lon numpy array representing the\n",
    "                 average wind speed for each (n_lat, n_lon)\n",
    "                 combination over the duration of the data\n",
    "                 contained in the file\n",
    "\"\"\"\n",
    "def mean_wind_speed(file='data/uwnd.sig995.2020.nc'):\n",
    "    f_wind = netCDF4.Dataset(file)\n",
    "    n_lat = f_wind.dimensions['lat'].size\n",
    "    n_lon = f_wind.dimensions['lon'].size\n",
    "    n_days = f_wind.dimensions['time'].size\n",
    "    key = list(f_wind.variables)[3]\n",
    "\n",
    "    mean_speed = np.zeros((n_lat, n_lon))\n",
    "    for day in f_wind.variables[key][:]:\n",
    "        for i in range(n_lat):\n",
    "            for j in range(n_lon):\n",
    "                mean_speed[i][j] += day[i][j]\n",
    "    mean_speed = mean_speed / n_days\n",
    "    return mean_speed\n",
    "\n",
    "\"\"\"\n",
    "Parameters:\n",
    "    file - path to valid NetCDF4 wind speed file; designed for\n",
    "           NOAA U-wind and V-wind files; default 'data/uwnd.sig995.2020.nc'\n",
    "\n",
    "Returns:\n",
    "    numpy array of latitude values from file\n",
    "\"\"\"\n",
    "def lat_array(file='data/uwnd.sig995.2020.nc'):\n",
    "    f_wind = netCDF4.Dataset(file)\n",
    "    return f_wind.variables['lat'][:].data\n",
    "\n",
    "\"\"\"\n",
    "Parameters:\n",
    "    file - path to valid NetCDF4 wind speed file; designed for\n",
    "           NOAA U-wind and V-wind files; default 'data/uwnd.sig995.2020.nc'\n",
    "\n",
    "Returns:\n",
    "    numpy array of longitude values from file\n",
    "\"\"\"\n",
    "def lon_array(file='data/uwnd.sig995.2020.nc'):\n",
    "    f_wind = netCDF4.Dataset(file)\n",
    "    return f_wind.variables['lon'][:].data\n",
    "\n",
    "\"\"\"\n",
    "Parameters:\n",
    "    file - path to valid NetCDF4 wind speed file; designed for\n",
    "           NOAA U-wind and V-wind files; default 'data/uwnd.sig995.2020.nc'\n",
    "\n",
    "Returns:\n",
    "    table - a pandas dataframe pivot table where the row indices are\n",
    "            the file's latitudes and the column indices are the file's\n",
    "            longitudes; the values represent the mean wind speed for\n",
    "            the corresponding latitude and longitude indices\n",
    "\"\"\"\n",
    "def mean_wind_speed_table(file='data/uwnd.sig995.2020.nc'):\n",
    "    f_wind = netCDF4.Dataset(file)\n",
    "    mws = mean_wind_speed(file)\n",
    "    lat_lon_speed = list()\n",
    "\n",
    "    lon, lat = f_wind.variables['lon'][:].data, f_wind.variables['lat'][:].data\n",
    "    n_lat, n_lon = f_wind.dimensions['lat'].size, f_wind.dimensions['lon'].size\n",
    "\n",
    "    for i in range(n_lat):\n",
    "        for j in range(n_lon):\n",
    "            d = dict()\n",
    "            d['lat'] = lat[i]\n",
    "            d['lon'] = lon[j]\n",
    "            d['mean_speed'] = mws[i][j]\n",
    "            lat_lon_speed.append(d)\n",
    "\n",
    "    df = pd.DataFrame(lat_lon_speed)\n",
    "    table = pd.pivot_table(df, index='lat', columns='lon')\n",
    "    return table"
   ],
   "metadata": {
    "collapsed": false,
    "pycharm": {
     "name": "#%%\n"
    }
   }
  },
  {
   "cell_type": "markdown",
   "source": [
    "The following functions extract and manipulate wind speed data from a collection of netcdf files."
   ],
   "metadata": {
    "collapsed": false,
    "pycharm": {
     "name": "#%% md\n"
    }
   }
  },
  {
   "cell_type": "code",
   "execution_count": 8,
   "outputs": [
    {
     "data": {
      "text/plain": "[[], []]"
     },
     "execution_count": 8,
     "metadata": {},
     "output_type": "execute_result"
    }
   ],
   "source": [
    "\"\"\"\n",
    "Parameters:\n",
    "    dir_path - path to directory of netcdf4 wind speed files; \n",
    "               default 'data/Wind_Speed_Data/'\n",
    "\n",
    "Returns:\n",
    "    Python list containing two elements; the first element is\n",
    "    a list of the U-wind component files in dir_path, and the\n",
    "    second element is a list of the V-wind component files in\n",
    "    dir_path\n",
    "\"\"\"\n",
    "def u_and_v_files(dir_path='data/Wind_Speed_Data/'):\n",
    "    files = os.listdir(dir_path)\n",
    "    u_files = [file for file in files if 'uwnd' in file]\n",
    "    v_files = [file for file in files if 'vwnd' in file]\n",
    "    return [u_files, v_files]\n",
    "\n"
   ],
   "metadata": {
    "collapsed": false,
    "pycharm": {
     "name": "#%%\n"
    }
   }
  },
  {
   "cell_type": "markdown",
   "source": [
    "## 5. USGS Protected Areas Database\n",
    "\n",
    "Data retrieval method: Shapefile download (data/PAD-US-SHP/)"
   ],
   "metadata": {
    "collapsed": false,
    "pycharm": {
     "name": "#%% md\n"
    }
   }
  }
 ],
 "metadata": {
  "kernelspec": {
   "display_name": "Python 3",
   "language": "python",
   "name": "python3"
  },
  "language_info": {
   "codemirror_mode": {
    "name": "ipython",
    "version": 2
   },
   "file_extension": ".py",
   "mimetype": "text/x-python",
   "name": "python",
   "nbconvert_exporter": "python",
   "pygments_lexer": "ipython2",
   "version": "2.7.6"
  }
 },
 "nbformat": 4,
 "nbformat_minor": 0
}