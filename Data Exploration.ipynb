{
 "cells": [
  {
   "cell_type": "markdown",
   "metadata": {
    "collapsed": true,
    "pycharm": {
     "name": "#%% md\n"
    }
   },
   "source": [
    "# Data Exploration"
   ]
  },
  {
   "cell_type": "markdown",
   "source": [
    "## Imports"
   ],
   "metadata": {
    "collapsed": false
   }
  },
  {
   "cell_type": "code",
   "execution_count": 1,
   "outputs": [],
   "source": [
    "import numpy as np\n",
    "import pandas as pd\n",
    "import requests"
   ],
   "metadata": {
    "collapsed": false,
    "pycharm": {
     "name": "#%%\n"
    }
   }
  },
  {
   "cell_type": "markdown",
   "source": [
    "## USGS Wind Turbine Database\n",
    "Example request response for wind turbine with 'case_id'=3038257. Response data contains turbine ID ('case_id'), rated capacity ('t_cap'), dimensions, coordinates ('xlong' and 'ylat'), and other relevant data. Calling the json() method on the response object gives a list of dictionaries, where each dictionary represents a turbine from the response."
   ],
   "metadata": {
    "collapsed": false
   }
  },
  {
   "cell_type": "code",
   "execution_count": 9,
   "outputs": [
    {
     "data": {
      "text/plain": "{'case_id': 3038257,\n 'faa_ors': '19-022348',\n 'faa_asn': '2011-WTE-22311-OE',\n 'usgs_pr_id': 20977,\n 't_state': 'IA',\n 't_county': 'Story County',\n 't_fips': '19169',\n 'p_name': 'AG Land 4',\n 'p_year': 2012,\n 'p_tnum': 6,\n 'p_cap': 9.6,\n 't_manu': 'GE Wind',\n 't_model': 'GE1.6-82.5',\n 't_cap': 1600,\n 't_hh': 80.0,\n 't_rd': 82.5,\n 't_rsa': 5345.62,\n 't_ttlh': 121.3,\n 't_conf_atr': 3,\n 't_conf_loc': 3,\n 't_img_date': '1/1/2013',\n 't_img_srce': 'NAIP',\n 'xlong': -93.3549,\n 'ylat': 41.90419,\n 'eia_id': None}"
     },
     "execution_count": 9,
     "metadata": {},
     "output_type": "execute_result"
    }
   ],
   "source": [
    "base_path = 'https://eersc.usgs.gov/api/uswtdb/v1/'\n",
    "resp = requests.get(f\"{base_path}turbines?&case_id=eq.3038257\")\n",
    "resp.json()[0]"
   ],
   "metadata": {
    "collapsed": false,
    "pycharm": {
     "name": "#%%\n"
    }
   }
  },
  {
   "cell_type": "code",
   "execution_count": 9,
   "outputs": [],
   "source": [],
   "metadata": {
    "collapsed": false,
    "pycharm": {
     "name": "#%%\n"
    }
   }
  }
 ],
 "metadata": {
  "kernelspec": {
   "display_name": "Python 3",
   "language": "python",
   "name": "python3"
  },
  "language_info": {
   "codemirror_mode": {
    "name": "ipython",
    "version": 2
   },
   "file_extension": ".py",
   "mimetype": "text/x-python",
   "name": "python",
   "nbconvert_exporter": "python",
   "pygments_lexer": "ipython2",
   "version": "2.7.6"
  }
 },
 "nbformat": 4,
 "nbformat_minor": 0
}