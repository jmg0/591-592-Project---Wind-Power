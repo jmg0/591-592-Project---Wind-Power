{
 "cells": [
  {
   "cell_type": "markdown",
   "metadata": {
    "collapsed": true,
    "pycharm": {
     "name": "#%% md\n"
    }
   },
   "source": [
    "# Data Exploration"
   ]
  },
  {
   "cell_type": "markdown",
   "source": [
    "## Imports"
   ],
   "metadata": {
    "collapsed": false
   }
  },
  {
   "cell_type": "code",
   "execution_count": 1,
   "outputs": [],
   "source": [
    "import numpy as np\n",
    "import pandas as pd\n",
    "import requests\n",
    "import shapefile\n",
    "import netCDF4\n",
    "import os"
   ],
   "metadata": {
    "collapsed": false,
    "pycharm": {
     "name": "#%%\n"
    }
   }
  },
  {
   "cell_type": "markdown",
   "source": [
    "## 1. USGS Wind Turbine Database\n",
    "\n",
    "Data retrieval method: API\n",
    "\n",
    "Documentation: https://eerscmap.usgs.gov/uswtdb/api-doc/\n",
    "\n",
    "Example request response for wind turbine with 'case_id'=3038257. Response data contains turbine ID ('case_id'), rated capacity ('t_cap'), dimensions, coordinates ('xlong' and 'ylat'), and other relevant data. Calling the json() method on the response object gives a list of dictionaries, where each dictionary represents a turbine from the response."
   ],
   "metadata": {
    "collapsed": false
   }
  },
  {
   "cell_type": "code",
   "execution_count": 9,
   "outputs": [
    {
     "data": {
      "text/plain": "{'case_id': 3038257,\n 'faa_ors': '19-022348',\n 'faa_asn': '2011-WTE-22311-OE',\n 'usgs_pr_id': 20977,\n 't_state': 'IA',\n 't_county': 'Story County',\n 't_fips': '19169',\n 'p_name': 'AG Land 4',\n 'p_year': 2012,\n 'p_tnum': 6,\n 'p_cap': 9.6,\n 't_manu': 'GE Wind',\n 't_model': 'GE1.6-82.5',\n 't_cap': 1600,\n 't_hh': 80.0,\n 't_rd': 82.5,\n 't_rsa': 5345.62,\n 't_ttlh': 121.3,\n 't_conf_atr': 3,\n 't_conf_loc': 3,\n 't_img_date': '1/1/2013',\n 't_img_srce': 'NAIP',\n 'xlong': -93.3549,\n 'ylat': 41.90419,\n 'eia_id': None}"
     },
     "execution_count": 9,
     "metadata": {},
     "output_type": "execute_result"
    }
   ],
   "source": [
    "base_path = 'https://eersc.usgs.gov/api/uswtdb/v1/'\n",
    "resp = requests.get(f\"{base_path}turbines?&case_id=eq.3038257\")\n",
    "resp.json()[0]"
   ],
   "metadata": {
    "collapsed": false,
    "pycharm": {
     "name": "#%%\n"
    }
   }
  },
  {
   "cell_type": "markdown",
   "source": [
    "Example request for multiple turbines in USWTDB"
   ],
   "metadata": {
    "collapsed": false,
    "pycharm": {
     "name": "#%% md\n"
    }
   }
  },
  {
   "cell_type": "code",
   "execution_count": 22,
   "outputs": [
    {
     "data": {
      "text/plain": "[{'case_id': 3005443,\n  'faa_ors': None,\n  'faa_asn': None,\n  'usgs_pr_id': 5840,\n  't_state': 'CA',\n  't_county': 'Kern County',\n  't_fips': '6029',\n  'p_name': '251 Wind',\n  'p_year': 1987,\n  'p_tnum': 194,\n  'p_cap': 18.43,\n  't_manu': 'Vestas',\n  't_model': None,\n  't_cap': 95,\n  't_hh': None,\n  't_rd': None,\n  't_rsa': None,\n  't_ttlh': None,\n  't_conf_atr': 2,\n  't_conf_loc': 3,\n  't_img_date': '5/8/2018',\n  't_img_srce': 'Digital Globe',\n  'xlong': -118.35109,\n  'ylat': 35.0919,\n  'eia_id': 52161},\n {'case_id': 3072704,\n  'faa_ors': None,\n  'faa_asn': None,\n  'usgs_pr_id': 5146,\n  't_state': 'CA',\n  't_county': 'Kern County',\n  't_fips': '6029',\n  'p_name': '251 Wind',\n  'p_year': 1987,\n  'p_tnum': 194,\n  'p_cap': 18.43,\n  't_manu': 'Vestas',\n  't_model': None,\n  't_cap': 95,\n  't_hh': None,\n  't_rd': None,\n  't_rsa': None,\n  't_ttlh': None,\n  't_conf_atr': 2,\n  't_conf_loc': 3,\n  't_img_date': '5/8/2018',\n  't_img_srce': 'Digital Globe',\n  'xlong': -118.3642,\n  'ylat': 35.07764,\n  'eia_id': 52161},\n {'case_id': 3072695,\n  'faa_ors': None,\n  'faa_asn': None,\n  'usgs_pr_id': 5143,\n  't_state': 'CA',\n  't_county': 'Kern County',\n  't_fips': '6029',\n  'p_name': '251 Wind',\n  'p_year': 1987,\n  'p_tnum': 194,\n  'p_cap': 18.43,\n  't_manu': 'Vestas',\n  't_model': None,\n  't_cap': 95,\n  't_hh': None,\n  't_rd': None,\n  't_rsa': None,\n  't_ttlh': None,\n  't_conf_atr': 2,\n  't_conf_loc': 3,\n  't_img_date': '5/8/2018',\n  't_img_srce': 'Digital Globe',\n  'xlong': -118.36441,\n  'ylat': 35.07744,\n  'eia_id': 52161},\n {'case_id': 3072661,\n  'faa_ors': None,\n  'faa_asn': None,\n  'usgs_pr_id': 5149,\n  't_state': 'CA',\n  't_county': 'Kern County',\n  't_fips': '6029',\n  'p_name': '251 Wind',\n  'p_year': 1987,\n  'p_tnum': 194,\n  'p_cap': 18.43,\n  't_manu': 'Vestas',\n  't_model': None,\n  't_cap': 95,\n  't_hh': None,\n  't_rd': None,\n  't_rsa': None,\n  't_ttlh': None,\n  't_conf_atr': 2,\n  't_conf_loc': 3,\n  't_img_date': '5/8/2018',\n  't_img_srce': 'Digital Globe',\n  'xlong': -118.36376,\n  'ylat': 35.07791,\n  'eia_id': 52161},\n {'case_id': 3005333,\n  'faa_ors': None,\n  'faa_asn': None,\n  'usgs_pr_id': 5109,\n  't_state': 'CA',\n  't_county': 'Kern County',\n  't_fips': '6029',\n  'p_name': '251 Wind',\n  'p_year': 1987,\n  'p_tnum': 194,\n  'p_cap': 18.43,\n  't_manu': 'Vestas',\n  't_model': None,\n  't_cap': 95,\n  't_hh': None,\n  't_rd': None,\n  't_rsa': None,\n  't_ttlh': None,\n  't_conf_atr': 2,\n  't_conf_loc': 3,\n  't_img_date': '5/8/2018',\n  't_img_srce': 'Digital Globe',\n  'xlong': -118.36869,\n  'ylat': 35.07529,\n  'eia_id': 52161}]"
     },
     "execution_count": 22,
     "metadata": {},
     "output_type": "execute_result"
    }
   ],
   "source": [
    "params = {'offset': 0, 'limit': 5}\n",
    "resp = requests.get(f\"{base_path}turbines\", params=params)\n",
    "turbine_data = resp.json()\n",
    "turbine_data"
   ],
   "metadata": {
    "collapsed": false,
    "pycharm": {
     "name": "#%%\n"
    }
   }
  },
  {
   "cell_type": "markdown",
   "source": [
    "Convert response to DataFrame"
   ],
   "metadata": {
    "collapsed": false,
    "pycharm": {
     "name": "#%% md\n"
    }
   }
  },
  {
   "cell_type": "code",
   "execution_count": 23,
   "outputs": [
    {
     "data": {
      "text/plain": "   case_id faa_ors faa_asn  usgs_pr_id t_state     t_county t_fips    p_name  \\\n0  3005443    None    None        5840      CA  Kern County   6029  251 Wind   \n1  3072704    None    None        5146      CA  Kern County   6029  251 Wind   \n2  3072695    None    None        5143      CA  Kern County   6029  251 Wind   \n3  3072661    None    None        5149      CA  Kern County   6029  251 Wind   \n4  3005333    None    None        5109      CA  Kern County   6029  251 Wind   \n\n   p_year  p_tnum  ...  t_rd t_rsa t_ttlh  t_conf_atr t_conf_loc t_img_date  \\\n0    1987     194  ...  None  None   None           2          3   5/8/2018   \n1    1987     194  ...  None  None   None           2          3   5/8/2018   \n2    1987     194  ...  None  None   None           2          3   5/8/2018   \n3    1987     194  ...  None  None   None           2          3   5/8/2018   \n4    1987     194  ...  None  None   None           2          3   5/8/2018   \n\n      t_img_srce      xlong      ylat  eia_id  \n0  Digital Globe -118.35109  35.09190   52161  \n1  Digital Globe -118.36420  35.07764   52161  \n2  Digital Globe -118.36441  35.07744   52161  \n3  Digital Globe -118.36376  35.07791   52161  \n4  Digital Globe -118.36869  35.07529   52161  \n\n[5 rows x 25 columns]",
      "text/html": "<div>\n<style scoped>\n    .dataframe tbody tr th:only-of-type {\n        vertical-align: middle;\n    }\n\n    .dataframe tbody tr th {\n        vertical-align: top;\n    }\n\n    .dataframe thead th {\n        text-align: right;\n    }\n</style>\n<table border=\"1\" class=\"dataframe\">\n  <thead>\n    <tr style=\"text-align: right;\">\n      <th></th>\n      <th>case_id</th>\n      <th>faa_ors</th>\n      <th>faa_asn</th>\n      <th>usgs_pr_id</th>\n      <th>t_state</th>\n      <th>t_county</th>\n      <th>t_fips</th>\n      <th>p_name</th>\n      <th>p_year</th>\n      <th>p_tnum</th>\n      <th>...</th>\n      <th>t_rd</th>\n      <th>t_rsa</th>\n      <th>t_ttlh</th>\n      <th>t_conf_atr</th>\n      <th>t_conf_loc</th>\n      <th>t_img_date</th>\n      <th>t_img_srce</th>\n      <th>xlong</th>\n      <th>ylat</th>\n      <th>eia_id</th>\n    </tr>\n  </thead>\n  <tbody>\n    <tr>\n      <th>0</th>\n      <td>3005443</td>\n      <td>None</td>\n      <td>None</td>\n      <td>5840</td>\n      <td>CA</td>\n      <td>Kern County</td>\n      <td>6029</td>\n      <td>251 Wind</td>\n      <td>1987</td>\n      <td>194</td>\n      <td>...</td>\n      <td>None</td>\n      <td>None</td>\n      <td>None</td>\n      <td>2</td>\n      <td>3</td>\n      <td>5/8/2018</td>\n      <td>Digital Globe</td>\n      <td>-118.35109</td>\n      <td>35.09190</td>\n      <td>52161</td>\n    </tr>\n    <tr>\n      <th>1</th>\n      <td>3072704</td>\n      <td>None</td>\n      <td>None</td>\n      <td>5146</td>\n      <td>CA</td>\n      <td>Kern County</td>\n      <td>6029</td>\n      <td>251 Wind</td>\n      <td>1987</td>\n      <td>194</td>\n      <td>...</td>\n      <td>None</td>\n      <td>None</td>\n      <td>None</td>\n      <td>2</td>\n      <td>3</td>\n      <td>5/8/2018</td>\n      <td>Digital Globe</td>\n      <td>-118.36420</td>\n      <td>35.07764</td>\n      <td>52161</td>\n    </tr>\n    <tr>\n      <th>2</th>\n      <td>3072695</td>\n      <td>None</td>\n      <td>None</td>\n      <td>5143</td>\n      <td>CA</td>\n      <td>Kern County</td>\n      <td>6029</td>\n      <td>251 Wind</td>\n      <td>1987</td>\n      <td>194</td>\n      <td>...</td>\n      <td>None</td>\n      <td>None</td>\n      <td>None</td>\n      <td>2</td>\n      <td>3</td>\n      <td>5/8/2018</td>\n      <td>Digital Globe</td>\n      <td>-118.36441</td>\n      <td>35.07744</td>\n      <td>52161</td>\n    </tr>\n    <tr>\n      <th>3</th>\n      <td>3072661</td>\n      <td>None</td>\n      <td>None</td>\n      <td>5149</td>\n      <td>CA</td>\n      <td>Kern County</td>\n      <td>6029</td>\n      <td>251 Wind</td>\n      <td>1987</td>\n      <td>194</td>\n      <td>...</td>\n      <td>None</td>\n      <td>None</td>\n      <td>None</td>\n      <td>2</td>\n      <td>3</td>\n      <td>5/8/2018</td>\n      <td>Digital Globe</td>\n      <td>-118.36376</td>\n      <td>35.07791</td>\n      <td>52161</td>\n    </tr>\n    <tr>\n      <th>4</th>\n      <td>3005333</td>\n      <td>None</td>\n      <td>None</td>\n      <td>5109</td>\n      <td>CA</td>\n      <td>Kern County</td>\n      <td>6029</td>\n      <td>251 Wind</td>\n      <td>1987</td>\n      <td>194</td>\n      <td>...</td>\n      <td>None</td>\n      <td>None</td>\n      <td>None</td>\n      <td>2</td>\n      <td>3</td>\n      <td>5/8/2018</td>\n      <td>Digital Globe</td>\n      <td>-118.36869</td>\n      <td>35.07529</td>\n      <td>52161</td>\n    </tr>\n  </tbody>\n</table>\n<p>5 rows × 25 columns</p>\n</div>"
     },
     "execution_count": 23,
     "metadata": {},
     "output_type": "execute_result"
    }
   ],
   "source": [
    "df = pd.DataFrame(turbine_data)\n",
    "df.head()"
   ],
   "metadata": {
    "collapsed": false,
    "pycharm": {
     "name": "#%%\n"
    }
   }
  },
  {
   "cell_type": "markdown",
   "source": [
    "The API will overload if a request corresponds to too many records. We can work around this by calling the API in smaller batches."
   ],
   "metadata": {
    "collapsed": false
   }
  },
  {
   "cell_type": "code",
   "execution_count": 15,
   "outputs": [
    {
     "data": {
      "text/plain": "<Response [200]>"
     },
     "execution_count": 15,
     "metadata": {},
     "output_type": "execute_result"
    }
   ],
   "source": [
    "# Initial call to API with response limit of 50 records\n",
    "turbine_df = pd.DataFrame()\n",
    "offset, limit = 0, 50\n",
    "params = {'offset': offset, 'limit': limit}\n",
    "resp = requests.get(f\"{base_path}turbines\", params=params)\n",
    "turbine_data = resp.json()\n",
    "\n",
    "# This loop calls the API and adds the response records to turbine_df\n",
    "# until it has returned all turbines in the USWTDB\n",
    "while len(turbine_data):\n",
    "    df = pd.DataFrame(turbine_data)\n",
    "    turbine_df = pd.concat([turbine_df, df])\n",
    "    offset += limit\n",
    "    resp = requests.get(f\"{base_path}turbines\", params=params)\n",
    "    turbine_data = resp.json()\n",
    "\n",
    "turbine_data.head()"
   ],
   "metadata": {
    "collapsed": false,
    "pycharm": {
     "name": "#%%\n"
    }
   }
  },
  {
   "cell_type": "markdown",
   "source": [
    "For best practices, here's the above code as a function."
   ],
   "metadata": {
    "collapsed": false,
    "pycharm": {
     "name": "#%% md\n"
    }
   }
  },
  {
   "cell_type": "code",
   "execution_count": 29,
   "outputs": [],
   "source": [
    "\"\"\"\n",
    "Parameters:\n",
    "    offset - record index from which API response should begin; default 0\n",
    "    limit - max number of records to return in each API call; default 50\n",
    "    params - dict of query parameters for API call; default None,\n",
    "             initialized with default offset and limit values\n",
    "\n",
    "Returns:\n",
    "    turbine_df - pandas DataFrame object containing records for all turbines\n",
    "                 corresponding to query\n",
    "\"\"\"\n",
    "def USWTDB_data(offset=0, limit=50, params=None):\n",
    "    base_path = 'https://eersc.usgs.gov/api/uswtdb/v1/'\n",
    "    if not params:\n",
    "        params = {'offset': offset, 'limit': limit}\n",
    "    else:\n",
    "        params['offset'] = params.get('offset', offset)\n",
    "        params['limit'] = params.get('limit', limit)\n",
    "\n",
    "    turbine_df = pd.DataFrame()\n",
    "    resp = requests.get(f\"{base_path}turbines\", params=params)\n",
    "    turbine_data = resp.json()\n",
    "\n",
    "    while len(turbine_data):\n",
    "        df = pd.DataFrame(turbine_data)\n",
    "        turbine_df = pd.concat([turbine_df, df])\n",
    "        offset += limit\n",
    "        resp = requests.get(f\"{base_path}turbines\", params=params)\n",
    "        turbine_data = resp.json()\n",
    "\n",
    "    return turbine_df"
   ],
   "metadata": {
    "collapsed": false,
    "pycharm": {
     "name": "#%%\n"
    }
   }
  },
  {
   "cell_type": "markdown",
   "source": [
    "## 2. USA Major Cities Dataset\n",
    "\n",
    "Data retrieval method:\n",
    "- Data file - CSV download (data/USA_Major_Cities.csv)\n",
    "- Geographic data - Shapefile download (data/USA_Major_Cities_SHP/)\n",
    "\n",
    "Documentation: https://hub.arcgis.com/datasets/esri::usa-major-cities"
   ],
   "metadata": {
    "collapsed": false
   }
  },
  {
   "cell_type": "markdown",
   "source": [
    "### Data file"
   ],
   "metadata": {
    "collapsed": false,
    "pycharm": {
     "name": "#%% md\n"
    }
   }
  },
  {
   "cell_type": "code",
   "execution_count": 30,
   "outputs": [
    {
     "data": {
      "text/plain": "   FID        NAME CLASS  ST  STFIPS  PLACEFIPS CAPITAL  POP_CLASS  \\\n0    1       Ammon  city  ID      16    1601990                  6   \n1    2   Blackfoot  city  ID      16    1607840                  6   \n2    3  Boise City  city  ID      16    1608830   State          8   \n3    4      Burley  city  ID      16    1611260                  6   \n4    5    Caldwell  city  ID      16    1612250                  7   \n\n   POPULATION  POP2010  ...  MARHH_CHD  MARHH_NO_C  MHH_CHILD  FHH_CHILD  \\\n0       15181    13816  ...       1618        1131        106        335   \n1       11946    11899  ...       1091        1081        174        381   \n2      225405   205671  ...      16708       21233       2414       5919   \n3       10727    10345  ...        950         861        139        358   \n4       53942    46237  ...       4407        3113        686       1755   \n\n   FAMILIES  AVE_FAM_SZ  HSE_UNITS  VACANT  OWNER_OCC  RENTER_OCC  \n0      3352        3.61       4747     271       3205        1271  \n1      2958        3.31       4547     318       2788        1441  \n2     50647        2.97      92700    6996      52345       33359  \n3      2499        3.37       3885     241       2183        1461  \n4     10776        3.51      16323    1428       9699        5196  \n\n[5 rows x 49 columns]",
      "text/html": "<div>\n<style scoped>\n    .dataframe tbody tr th:only-of-type {\n        vertical-align: middle;\n    }\n\n    .dataframe tbody tr th {\n        vertical-align: top;\n    }\n\n    .dataframe thead th {\n        text-align: right;\n    }\n</style>\n<table border=\"1\" class=\"dataframe\">\n  <thead>\n    <tr style=\"text-align: right;\">\n      <th></th>\n      <th>FID</th>\n      <th>NAME</th>\n      <th>CLASS</th>\n      <th>ST</th>\n      <th>STFIPS</th>\n      <th>PLACEFIPS</th>\n      <th>CAPITAL</th>\n      <th>POP_CLASS</th>\n      <th>POPULATION</th>\n      <th>POP2010</th>\n      <th>...</th>\n      <th>MARHH_CHD</th>\n      <th>MARHH_NO_C</th>\n      <th>MHH_CHILD</th>\n      <th>FHH_CHILD</th>\n      <th>FAMILIES</th>\n      <th>AVE_FAM_SZ</th>\n      <th>HSE_UNITS</th>\n      <th>VACANT</th>\n      <th>OWNER_OCC</th>\n      <th>RENTER_OCC</th>\n    </tr>\n  </thead>\n  <tbody>\n    <tr>\n      <th>0</th>\n      <td>1</td>\n      <td>Ammon</td>\n      <td>city</td>\n      <td>ID</td>\n      <td>16</td>\n      <td>1601990</td>\n      <td></td>\n      <td>6</td>\n      <td>15181</td>\n      <td>13816</td>\n      <td>...</td>\n      <td>1618</td>\n      <td>1131</td>\n      <td>106</td>\n      <td>335</td>\n      <td>3352</td>\n      <td>3.61</td>\n      <td>4747</td>\n      <td>271</td>\n      <td>3205</td>\n      <td>1271</td>\n    </tr>\n    <tr>\n      <th>1</th>\n      <td>2</td>\n      <td>Blackfoot</td>\n      <td>city</td>\n      <td>ID</td>\n      <td>16</td>\n      <td>1607840</td>\n      <td></td>\n      <td>6</td>\n      <td>11946</td>\n      <td>11899</td>\n      <td>...</td>\n      <td>1091</td>\n      <td>1081</td>\n      <td>174</td>\n      <td>381</td>\n      <td>2958</td>\n      <td>3.31</td>\n      <td>4547</td>\n      <td>318</td>\n      <td>2788</td>\n      <td>1441</td>\n    </tr>\n    <tr>\n      <th>2</th>\n      <td>3</td>\n      <td>Boise City</td>\n      <td>city</td>\n      <td>ID</td>\n      <td>16</td>\n      <td>1608830</td>\n      <td>State</td>\n      <td>8</td>\n      <td>225405</td>\n      <td>205671</td>\n      <td>...</td>\n      <td>16708</td>\n      <td>21233</td>\n      <td>2414</td>\n      <td>5919</td>\n      <td>50647</td>\n      <td>2.97</td>\n      <td>92700</td>\n      <td>6996</td>\n      <td>52345</td>\n      <td>33359</td>\n    </tr>\n    <tr>\n      <th>3</th>\n      <td>4</td>\n      <td>Burley</td>\n      <td>city</td>\n      <td>ID</td>\n      <td>16</td>\n      <td>1611260</td>\n      <td></td>\n      <td>6</td>\n      <td>10727</td>\n      <td>10345</td>\n      <td>...</td>\n      <td>950</td>\n      <td>861</td>\n      <td>139</td>\n      <td>358</td>\n      <td>2499</td>\n      <td>3.37</td>\n      <td>3885</td>\n      <td>241</td>\n      <td>2183</td>\n      <td>1461</td>\n    </tr>\n    <tr>\n      <th>4</th>\n      <td>5</td>\n      <td>Caldwell</td>\n      <td>city</td>\n      <td>ID</td>\n      <td>16</td>\n      <td>1612250</td>\n      <td></td>\n      <td>7</td>\n      <td>53942</td>\n      <td>46237</td>\n      <td>...</td>\n      <td>4407</td>\n      <td>3113</td>\n      <td>686</td>\n      <td>1755</td>\n      <td>10776</td>\n      <td>3.51</td>\n      <td>16323</td>\n      <td>1428</td>\n      <td>9699</td>\n      <td>5196</td>\n    </tr>\n  </tbody>\n</table>\n<p>5 rows × 49 columns</p>\n</div>"
     },
     "execution_count": 30,
     "metadata": {},
     "output_type": "execute_result"
    }
   ],
   "source": [
    "df = pd.read_csv('./data/USA_Major_Cities.csv')\n",
    "df.head()"
   ],
   "metadata": {
    "collapsed": false,
    "pycharm": {
     "name": "#%%\n"
    }
   }
  },
  {
   "cell_type": "markdown",
   "source": [
    "### Shapefile\n",
    "\n",
    "The code below reads the Shapefile and shows that it contains 3886 shapes (one for each record in the CSV file).\n",
    "\n",
    "See https://code.google.com/archive/p/pyshp/wikis/PyShpDocs.wiki for PyShp info."
   ],
   "metadata": {
    "collapsed": false
   }
  },
  {
   "cell_type": "code",
   "execution_count": 2,
   "outputs": [
    {
     "data": {
      "text/plain": "3886"
     },
     "execution_count": 2,
     "metadata": {},
     "output_type": "execute_result"
    }
   ],
   "source": [
    "sf = shapefile.Reader('././data/USA_Major_Cities_SHP/0c5a2fa1-3463-4fc7-99e5-e206023a7e682020313-1-nmlntcmln9c')\n",
    "len(sf.shapes())"
   ],
   "metadata": {
    "collapsed": false,
    "pycharm": {
     "name": "#%%\n"
    }
   }
  },
  {
   "cell_type": "markdown",
   "source": [
    "The 'points' attribute gives the longitude and latitude of each city (each shape object in sf.shapes() represents a city in this case)."
   ],
   "metadata": {
    "collapsed": false,
    "pycharm": {
     "name": "#%% md\n"
    }
   }
  },
  {
   "cell_type": "code",
   "execution_count": 13,
   "outputs": [
    {
     "data": {
      "text/plain": "[[-111.95410286999999, 43.47579235600005]]"
     },
     "execution_count": 13,
     "metadata": {},
     "output_type": "execute_result"
    }
   ],
   "source": [
    "sf.shapes()[0].points"
   ],
   "metadata": {
    "collapsed": false,
    "pycharm": {
     "name": "#%%\n"
    }
   }
  },
  {
   "cell_type": "markdown",
   "source": [
    "The records() method gives the attributes for each city in the shapefile. These attributes are the same as those contained in the CSV file above."
   ],
   "metadata": {
    "collapsed": false,
    "pycharm": {
     "name": "#%% md\n"
    }
   }
  },
  {
   "cell_type": "code",
   "execution_count": 21,
   "outputs": [
    {
     "data": {
      "text/plain": "{'FID': 1,\n 'NAME': 'Ammon',\n 'CLASS': 'city',\n 'ST': 'ID',\n 'STFIPS': '16',\n 'PLACEFIPS': '1601990',\n 'CAPITAL': '',\n 'POP_CLASS': 6,\n 'POPULATION': 15181,\n 'POP2010': 13816,\n 'WHITE': 13002,\n 'BLACK': 73,\n 'AMERI_ES': 67,\n 'ASIAN': 113,\n 'HAWN_PI': 9,\n 'HISPANIC': 884,\n 'OTHER': 307,\n 'MULT_RACE': 245,\n 'MALES': 6750,\n 'FEMALES': 7066,\n 'AGE_UNDER5': 1468,\n 'AGE_5_9': 1503,\n 'AGE_10_14': 1313,\n 'AGE_15_19': 1058,\n 'AGE_20_24': 734,\n 'AGE_25_34': 2031,\n 'AGE_35_44': 1767,\n 'AGE_45_54': 1446,\n 'AGE_55_64': 1136,\n 'AGE_65_74': 665,\n 'AGE_75_84': 486,\n 'AGE_85_UP': 209,\n 'MED_AGE': 29.6,\n 'MED_AGE_M': 28.0,\n 'MED_AGE_F': 30.8,\n 'HOUSEHOLDS': 4476,\n 'AVE_HH_SZ': 3.05,\n 'HSEHLD_1_M': 457,\n 'HSEHLD_1_F': 648,\n 'MARHH_CHD': 1618,\n 'MARHH_NO_C': 1131,\n 'MHH_CHILD': 106,\n 'FHH_CHILD': 335,\n 'FAMILIES': 3352,\n 'AVE_FAM_SZ': 3.61,\n 'HSE_UNITS': 4747,\n 'VACANT': 271,\n 'OWNER_OCC': 3205,\n 'RENTER_OCC': 1271}"
     },
     "execution_count": 21,
     "metadata": {},
     "output_type": "execute_result"
    }
   ],
   "source": [
    "sf.records()[0].as_dict()"
   ],
   "metadata": {
    "collapsed": false,
    "pycharm": {
     "name": "#%%\n"
    }
   }
  },
  {
   "cell_type": "markdown",
   "source": [
    "Not that it's necessarily needed, but we could recreate the dataframe from the CSV with additional fields for latitude and longitude."
   ],
   "metadata": {
    "collapsed": false,
    "pycharm": {
     "name": "#%% md\n"
    }
   }
  },
  {
   "cell_type": "code",
   "execution_count": 24,
   "outputs": [
    {
     "data": {
      "text/plain": "   FID        NAME CLASS  ST STFIPS PLACEFIPS CAPITAL  POP_CLASS  POPULATION  \\\n0    1       Ammon  city  ID     16   1601990                  6       15181   \n1    2   Blackfoot  city  ID     16   1607840                  6       11946   \n2    3  Boise City  city  ID     16   1608830   State          8      225405   \n3    4      Burley  city  ID     16   1611260                  6       10727   \n4    5    Caldwell  city  ID     16   1612250                  7       53942   \n\n   POP2010  ...  MHH_CHILD  FHH_CHILD  FAMILIES  AVE_FAM_SZ  HSE_UNITS  \\\n0    13816  ...        106        335      3352        3.61       4747   \n1    11899  ...        174        381      2958        3.31       4547   \n2   205671  ...       2414       5919     50647        2.97      92700   \n3    10345  ...        139        358      2499        3.37       3885   \n4    46237  ...        686       1755     10776        3.51      16323   \n\n   VACANT  OWNER_OCC  RENTER_OCC   latitude   longitude  \n0     271       3205        1271  43.475792 -111.954103  \n1     318       2788        1441  43.193937 -112.345567  \n2    6996      52345       33359  43.599015 -116.230110  \n3     241       2183        1461  42.536741 -113.793293  \n4    1428       9699        5196  43.661626 -116.685619  \n\n[5 rows x 51 columns]",
      "text/html": "<div>\n<style scoped>\n    .dataframe tbody tr th:only-of-type {\n        vertical-align: middle;\n    }\n\n    .dataframe tbody tr th {\n        vertical-align: top;\n    }\n\n    .dataframe thead th {\n        text-align: right;\n    }\n</style>\n<table border=\"1\" class=\"dataframe\">\n  <thead>\n    <tr style=\"text-align: right;\">\n      <th></th>\n      <th>FID</th>\n      <th>NAME</th>\n      <th>CLASS</th>\n      <th>ST</th>\n      <th>STFIPS</th>\n      <th>PLACEFIPS</th>\n      <th>CAPITAL</th>\n      <th>POP_CLASS</th>\n      <th>POPULATION</th>\n      <th>POP2010</th>\n      <th>...</th>\n      <th>MHH_CHILD</th>\n      <th>FHH_CHILD</th>\n      <th>FAMILIES</th>\n      <th>AVE_FAM_SZ</th>\n      <th>HSE_UNITS</th>\n      <th>VACANT</th>\n      <th>OWNER_OCC</th>\n      <th>RENTER_OCC</th>\n      <th>latitude</th>\n      <th>longitude</th>\n    </tr>\n  </thead>\n  <tbody>\n    <tr>\n      <th>0</th>\n      <td>1</td>\n      <td>Ammon</td>\n      <td>city</td>\n      <td>ID</td>\n      <td>16</td>\n      <td>1601990</td>\n      <td></td>\n      <td>6</td>\n      <td>15181</td>\n      <td>13816</td>\n      <td>...</td>\n      <td>106</td>\n      <td>335</td>\n      <td>3352</td>\n      <td>3.61</td>\n      <td>4747</td>\n      <td>271</td>\n      <td>3205</td>\n      <td>1271</td>\n      <td>43.475792</td>\n      <td>-111.954103</td>\n    </tr>\n    <tr>\n      <th>1</th>\n      <td>2</td>\n      <td>Blackfoot</td>\n      <td>city</td>\n      <td>ID</td>\n      <td>16</td>\n      <td>1607840</td>\n      <td></td>\n      <td>6</td>\n      <td>11946</td>\n      <td>11899</td>\n      <td>...</td>\n      <td>174</td>\n      <td>381</td>\n      <td>2958</td>\n      <td>3.31</td>\n      <td>4547</td>\n      <td>318</td>\n      <td>2788</td>\n      <td>1441</td>\n      <td>43.193937</td>\n      <td>-112.345567</td>\n    </tr>\n    <tr>\n      <th>2</th>\n      <td>3</td>\n      <td>Boise City</td>\n      <td>city</td>\n      <td>ID</td>\n      <td>16</td>\n      <td>1608830</td>\n      <td>State</td>\n      <td>8</td>\n      <td>225405</td>\n      <td>205671</td>\n      <td>...</td>\n      <td>2414</td>\n      <td>5919</td>\n      <td>50647</td>\n      <td>2.97</td>\n      <td>92700</td>\n      <td>6996</td>\n      <td>52345</td>\n      <td>33359</td>\n      <td>43.599015</td>\n      <td>-116.230110</td>\n    </tr>\n    <tr>\n      <th>3</th>\n      <td>4</td>\n      <td>Burley</td>\n      <td>city</td>\n      <td>ID</td>\n      <td>16</td>\n      <td>1611260</td>\n      <td></td>\n      <td>6</td>\n      <td>10727</td>\n      <td>10345</td>\n      <td>...</td>\n      <td>139</td>\n      <td>358</td>\n      <td>2499</td>\n      <td>3.37</td>\n      <td>3885</td>\n      <td>241</td>\n      <td>2183</td>\n      <td>1461</td>\n      <td>42.536741</td>\n      <td>-113.793293</td>\n    </tr>\n    <tr>\n      <th>4</th>\n      <td>5</td>\n      <td>Caldwell</td>\n      <td>city</td>\n      <td>ID</td>\n      <td>16</td>\n      <td>1612250</td>\n      <td></td>\n      <td>7</td>\n      <td>53942</td>\n      <td>46237</td>\n      <td>...</td>\n      <td>686</td>\n      <td>1755</td>\n      <td>10776</td>\n      <td>3.51</td>\n      <td>16323</td>\n      <td>1428</td>\n      <td>9699</td>\n      <td>5196</td>\n      <td>43.661626</td>\n      <td>-116.685619</td>\n    </tr>\n  </tbody>\n</table>\n<p>5 rows × 51 columns</p>\n</div>"
     },
     "execution_count": 24,
     "metadata": {},
     "output_type": "execute_result"
    }
   ],
   "source": [
    "items = list()\n",
    "for record, shape in zip(sf.records(), sf.shapes()):\n",
    "    attributes = record.as_dict()\n",
    "    attributes['latitude'] = shape.points[0][1]\n",
    "    attributes['longitude'] = shape.points[0][0]\n",
    "    items.append(attributes)\n",
    "\n",
    "df = pd.DataFrame(items)\n",
    "df.head()"
   ],
   "metadata": {
    "collapsed": false,
    "pycharm": {
     "name": "#%%\n"
    }
   }
  },
  {
   "cell_type": "markdown",
   "source": [
    "## 3. U.S. Census Cartographic Boundary Dataset"
   ],
   "metadata": {
    "collapsed": false
   }
  },
  {
   "cell_type": "code",
   "execution_count": null,
   "outputs": [],
   "source": [
    "# Need to confirm exactly which files we're going to use, but processing will be similar to above."
   ],
   "metadata": {
    "collapsed": false,
    "pycharm": {
     "name": "#%%\n"
    }
   }
  },
  {
   "cell_type": "markdown",
   "source": [
    "## 4. NOAA U.S. Annual Wind Speed Dataset\n",
    "NetCDF files containing 2020 wind speed data.\n",
    "\n",
    "Data retrieval:\n",
    "- U-wind or east-west wind component (test file: data/uwnd.sig995.2020.nc)\n",
    "- V-wind or north-south wind component (test file: data/vwnd.sig995.2020.nc)\n",
    "- U- and V- wind speed data from last 10 years for analysis (data/Wind_Speed_Data/)\n",
    "\n",
    "Documentation for netCDF4 library: https://unidata.github.io/netcdf4-python/netCDF4/index.html\n",
    "\n",
    "Load the files:"
   ],
   "metadata": {
    "collapsed": false
   }
  },
  {
   "cell_type": "code",
   "execution_count": 38,
   "outputs": [],
   "source": [
    "f_uwind = netCDF4.Dataset('data/uwnd.sig995.2020.nc')\n",
    "f_vwind = netCDF4.Dataset('data/vwnd.sig995.2020.nc')"
   ],
   "metadata": {
    "collapsed": false,
    "pycharm": {
     "name": "#%%\n"
    }
   }
  },
  {
   "cell_type": "markdown",
   "source": [
    "The wind speed files are composed of three-dimensional arrays. The numerical elements represent the wind speed at a given longitude and latitude on a given day. The outermost elements are lists representing days, the second outermost elements are lists representing latitudes, and the elements of those lists are numbers (representing wind speed), whose index corresponds to a longitude. The structure is illustrated below.\n",
    "\n",
    "data = [ day1, day2, ... , day_355 ]\n",
    "day_i = [ lat1, lat2, ... , lat73 ]\n",
    "lat_j = [ lon1, lon2, ... , lon144 ]\n",
    "\n",
    "That is, data[i][j][k] is the wind speed at (lon[k], lat[j]) on day[i].\n",
    "\n",
    "Note: There are only 355 days listed for 2020 because the data was initially downloaded on 12-22-20. The data should be re-downloaded before final analysis.\n",
    "\n",
    "Below is a demonstration that calculates the 2020 mean U-wind speed for each latitude and longitude."
   ],
   "metadata": {
    "collapsed": false,
    "pycharm": {
     "name": "#%% md\n"
    }
   }
  },
  {
   "cell_type": "code",
   "execution_count": 37,
   "outputs": [
    {
     "data": {
      "text/plain": "array([[ 0.52704325,  0.47584605,  0.42387421, ...,  0.67302916,\n         0.62612777,  0.57711365],\n       [ 0.16281785,  0.11739536,  0.06929676, ...,  0.27640944,\n         0.24169113,  0.20317   ],\n       [ 1.1834517 ,  0.97429676,  0.76169112, ...,  1.7559869 ,\n         1.58260662,  1.38859252],\n       ...,\n       [-3.01330887, -2.5580976 , -2.14725254, ..., -4.64626661,\n        -4.06161873, -3.51556239],\n       [-2.10359057, -1.63844971, -1.17978775, ..., -3.51182999,\n        -3.04175958, -2.57182999],\n       [-0.58823846, -0.46013986, -0.33105534, ..., -0.96535114,\n        -0.84070323, -0.7155624 ]])"
     },
     "execution_count": 37,
     "metadata": {},
     "output_type": "execute_result"
    }
   ],
   "source": [
    "n_lat = f_uwind.dimensions['lat'].size\n",
    "n_lon = f_uwind.dimensions['lon'].size\n",
    "n_days = f_uwind.dimensions['time'].size\n",
    "\n",
    "mean_u_wind_speed = np.zeros((n_lat, n_lon))\n",
    "for day in f_uwind.variables['uwnd'][:]:\n",
    "    for i in range(n_lat):\n",
    "        for j in range(n_lon):\n",
    "            mean_u_wind_speed[i][j] += day[i][j]\n",
    "mean_u_wind_speed = mean_u_wind_speed / n_days\n",
    "mean_u_wind_speed"
   ],
   "metadata": {
    "collapsed": false,
    "pycharm": {
     "name": "#%%\n"
    }
   }
  },
  {
   "cell_type": "markdown",
   "source": [
    "The following functions extract and manipulate wind speed data from a single netcdf file."
   ],
   "metadata": {
    "collapsed": false,
    "pycharm": {
     "name": "#%% md\n"
    }
   }
  },
  {
   "cell_type": "code",
   "execution_count": 14,
   "outputs": [],
   "source": [
    "\"\"\"\n",
    "Parameters:\n",
    "    file - path to valid NetCDF4 wind speed file; designed for\n",
    "           NOAA U-wind and V-wind files; default 'data/uwnd.sig995.2020.nc'\n",
    "\n",
    "Returns:\n",
    "    mean_speed - a n_lat x n_lon numpy array representing the\n",
    "                 average wind speed for each (n_lat, n_lon)\n",
    "                 combination over the duration of the data\n",
    "                 contained in the file\n",
    "\"\"\"\n",
    "def mean_wind_speed(file='data/uwnd.sig995.2020.nc'):\n",
    "    f_wind = netCDF4.Dataset(file)\n",
    "    n_lat = f_wind.dimensions['lat'].size\n",
    "    n_lon = f_wind.dimensions['lon'].size\n",
    "    n_days = f_wind.dimensions['time'].size\n",
    "    key = list(f_wind.variables)[3]\n",
    "\n",
    "    mean_speed = np.zeros((n_lat, n_lon))\n",
    "    for day in f_wind.variables[key][:]:\n",
    "        for i in range(n_lat):\n",
    "            for j in range(n_lon):\n",
    "                mean_speed[i][j] += day[i][j]\n",
    "    mean_speed = mean_speed / n_days\n",
    "    return mean_speed\n",
    "\n",
    "\"\"\"\n",
    "Parameters:\n",
    "    file - path to valid NetCDF4 wind speed file; designed for\n",
    "           NOAA U-wind and V-wind files; default 'data/uwnd.sig995.2020.nc'\n",
    "\n",
    "Returns:\n",
    "    numpy array of latitude values from file\n",
    "\"\"\"\n",
    "def lat_array(file='data/uwnd.sig995.2020.nc'):\n",
    "    f_wind = netCDF4.Dataset(file)\n",
    "    return f_wind.variables['lat'][:].data\n",
    "\n",
    "\"\"\"\n",
    "Parameters:\n",
    "    file - path to valid NetCDF4 wind speed file; designed for\n",
    "           NOAA U-wind and V-wind files; default 'data/uwnd.sig995.2020.nc'\n",
    "\n",
    "Returns:\n",
    "    numpy array of longitude values from file\n",
    "\"\"\"\n",
    "def lon_array(file='data/uwnd.sig995.2020.nc'):\n",
    "    f_wind = netCDF4.Dataset(file)\n",
    "    return f_wind.variables['lon'][:].data\n",
    "\n",
    "\"\"\"\n",
    "Parameters:\n",
    "    file - path to valid NetCDF4 wind speed file; designed for\n",
    "           NOAA U-wind and V-wind files; default 'data/uwnd.sig995.2020.nc'\n",
    "\n",
    "Returns:\n",
    "    table - a pandas dataframe pivot table where the row indices are\n",
    "            the file's latitudes and the column indices are the file's\n",
    "            longitudes; the values represent the mean wind speed for\n",
    "            the corresponding latitude and longitude indices\n",
    "\"\"\"\n",
    "def mean_wind_speed_table(file='data/uwnd.sig995.2020.nc'):\n",
    "    f_wind = netCDF4.Dataset(file)\n",
    "    mws = mean_wind_speed(file)\n",
    "    lat_lon_speed = list()\n",
    "\n",
    "    lon, lat = f_wind.variables['lon'][:].data, f_wind.variables['lat'][:].data\n",
    "    n_lat, n_lon = f_wind.dimensions['lat'].size, f_wind.dimensions['lon'].size\n",
    "\n",
    "    for i in range(n_lat):\n",
    "        for j in range(n_lon):\n",
    "            d = dict()\n",
    "            d['lat'] = lat[i]\n",
    "            d['lon'] = lon[j]\n",
    "            d['mean_speed'] = mws[i][j]\n",
    "            lat_lon_speed.append(d)\n",
    "\n",
    "    df = pd.DataFrame(lat_lon_speed)\n",
    "    table = pd.pivot_table(df, index='lat', columns='lon')\n",
    "    return table"
   ],
   "metadata": {
    "collapsed": false,
    "pycharm": {
     "name": "#%%\n"
    }
   }
  },
  {
   "cell_type": "markdown",
   "source": [
    "The following functions extract and manipulate wind speed data from a collection of netcdf files."
   ],
   "metadata": {
    "collapsed": false,
    "pycharm": {
     "name": "#%% md\n"
    }
   }
  },
  {
   "cell_type": "code",
   "execution_count": 46,
   "outputs": [],
   "source": [
    "\"\"\"\n",
    "Parameters:\n",
    "    dir_path - path to directory of netcdf4 wind speed files;\n",
    "               default 'data/Wind_Speed_Data/'\n",
    "\n",
    "Returns:\n",
    "    Python list containing two elements; the first element is\n",
    "    a list of the U-wind component files in dir_path, and the\n",
    "    second element is a list of the V-wind component files in\n",
    "    dir_path\n",
    "\"\"\"\n",
    "def u_and_v_files(dir_path='data/Wind_Speed_Data/'):\n",
    "    files = os.listdir(dir_path)\n",
    "    if not dir_path.endswith('/'):\n",
    "        dir_path += '/'\n",
    "    u_files = [f'{dir_path}{file}' for file in files if 'uwnd' in file]\n",
    "    v_files = [f'{dir_path}{file}' for file in files if 'vwnd' in file]\n",
    "    return u_files, v_files\n",
    "\n",
    "\"\"\"\n",
    "Parameters:\n",
    "    dir_path - path to directory of netcdf4 wind speed files;\n",
    "               default 'data/Wind_Speed_Data/'\n",
    "\n",
    "Returns:\n",
    "    n_lat - number of latitude dimensions in files in dir_path\n",
    "    n_lon - number of longitude dimensions in files in dir_path\n",
    "\"\"\"\n",
    "def lat_lon_dims_directory(dir_path='data/Wind_Speed_Data/'):\n",
    "    u_files, v_files = u_and_v_files(dir_path)\n",
    "    file = u_files[0] # could take any file from the bunch\n",
    "    f_wind = netCDF4.Dataset(file)\n",
    "    n_lat, n_lon = f_wind.dimensions['lat'].size, f_wind.dimensions['lon'].size\n",
    "    return n_lat, n_lon\n",
    "\n",
    "\"\"\"\n",
    "Parameters:\n",
    "    dir_path - path to directory of netcdf4 wind speed files;\n",
    "               default 'data/Wind_Speed_Data/'\n",
    "\n",
    "Returns:\n",
    "    lat - np array of latitude dimensions in files in dir_path\n",
    "    lon - np array of longitude dimensions in files in dir_path\n",
    "\"\"\"\n",
    "def lat_lon_vals_directory(dir_path='data/Wind_Speed_Data/'):\n",
    "    u_files, v_files = u_and_v_files(dir_path)\n",
    "    file = u_files[0] # could take any file from the bunch\n",
    "    return lat_array(file), lon_array(file)\n",
    "\n",
    "\"\"\"\n",
    "Parameters:\n",
    "    dir_path - path to directory of netcdf4 wind speed files;\n",
    "               default 'data/Wind_Speed_Data/'\n",
    "\n",
    "Returns:\n",
    "    u_dir_mean - a n_lat x n_lon numpy array representing the\n",
    "                 average U-wind speed for each (n_lat, n_lon)\n",
    "                 combination over the duration of the data\n",
    "                 contained in the directory 'dir_path'\n",
    "    v_dir_mean - a n_lat x n_lon numpy array representing the\n",
    "                 average V-wind speed for each (n_lat, n_lon)\n",
    "                 combination over the duration of the data\n",
    "                 contained in the directory 'dir_path'\n",
    "\"\"\"\n",
    "def mean_wind_speed_directory(dir_path='data/Wind_Speed_Data/'):\n",
    "    u_files, v_files = u_and_v_files(dir_path)\n",
    "    u_means = [mean_wind_speed(u_file) for u_file in u_files]\n",
    "    v_means = [mean_wind_speed(v_file) for v_file in v_files]\n",
    "    u_dir_mean, v_dir_mean = np.mean(u_means, axis=0), np.mean(v_means, axis=0)\n",
    "    return u_dir_mean, v_dir_mean\n",
    "\n",
    "\"\"\"\n",
    "Parameters:\n",
    "    dir_path - path to directory of netcdf4 wind speed files;\n",
    "               default 'data/Wind_Speed_Data/'\n",
    "\n",
    "Returns:\n",
    "    mean_wind_speed_dict - Python dictionary consisting of two entries:\n",
    "                           'U-wind' and 'V-wind';\n",
    "                            Each value is a pandas dataframe pivot table\n",
    "                            where row indices are latitudes and column\n",
    "                            indices are longitudes; the values represent\n",
    "                            the mean wind speed for the corresponding\n",
    "                            latitude and longitude indices and key\n",
    "                            direction\n",
    "\"\"\"\n",
    "def mean_wind_speed_directory_table(mws_directory=None, dir_path='data/Wind_Speed_Data/'):\n",
    "    mean_wind_speed_dict = dict()\n",
    "    if mws_directory:\n",
    "        u_dir_mean, v_dir_mean = mws_directory\n",
    "    else:\n",
    "        u_dir_mean, v_dir_mean = mean_wind_speed_directory(dir_path)\n",
    "    n_lat, n_lon = lat_lon_dims_directory(dir_path)\n",
    "\n",
    "    u_lat_lon_speed, v_lat_lon_speed = list(), list()\n",
    "    lat, lon = lat_lon_vals_directory(dir_path)\n",
    "    for i in range(n_lat):\n",
    "        for j in range(n_lon):\n",
    "            u_dict, v_dict = dict(), dict()\n",
    "            u_dict['lat'], v_dict['lat'] = lat[i], lat[i]\n",
    "            u_dict['lon'], v_dict['lon'] = lon[j], lon[j]\n",
    "            u_dict['mean_speed'], v_dict['mean_speed'] = u_dir_mean[i][j], v_dir_mean[i][j]\n",
    "            u_lat_lon_speed.append(u_dict)\n",
    "            v_lat_lon_speed.append(v_dict)\n",
    "\n",
    "    u_df = pd.DataFrame(u_lat_lon_speed)\n",
    "    v_df = pd.DataFrame(v_lat_lon_speed)\n",
    "    u_table = pd.pivot_table(u_df, index='lat', columns='lon')\n",
    "    v_table = pd.pivot_table(v_df, index='lat', columns='lon')\n",
    "    mean_wind_speed_dict['U-wind'] = u_table\n",
    "    mean_wind_speed_dict['V-wind'] = v_table\n",
    "\n",
    "    return mean_wind_speed_dict"
   ],
   "metadata": {
    "collapsed": false,
    "pycharm": {
     "name": "#%%\n"
    }
   }
  },
  {
   "cell_type": "markdown",
   "source": [
    "## 5. USGS Protected Areas Database\n",
    "\n",
    "Data retrieval method: Shapefile download (data/PADUS2_0_Shapefiles/)\n",
    "\n",
    "Base filenames for shapefile reader:\n",
    "- U.S. Boundaries - 'data/PADUS2_0_Shapefiles/CENSUS2016StateUSGSAlbers'\n",
    "- Reclamation/Designation - 'data/PADUS2_0_Shapefiles/PADUS2_0Designation'\n",
    "- Easement (federal land like forests) - 'data/PADUS2_0_Shapefiles/PADUS2_0Easement'\n",
    "- Fee (federal land like nat. parks, trails, seashores, etc.) - 'data/PADUS2_0_Shapefiles/PADUS2_0Fee'\n",
    "- Marine (marine protected areas) - 'data/PADUS2_0_Shapefiles/PADUS2_0Marine'\n",
    "- Proclamation (DOD areas) - 'data/PADUS2_0_Shapefiles/PADUS2_0Proclamation'"
   ],
   "metadata": {
    "collapsed": false,
    "pycharm": {
     "name": "#%% md\n"
    }
   }
  },
  {
   "cell_type": "code",
   "execution_count": 12,
   "outputs": [],
   "source": [
    "base_filenames = {\n",
    "    'boundaries':  'data/PADUS2_0_Shapefiles/CENSUS2016StateUSGSAlbers',\n",
    "    'reclamation': 'data/PADUS2_0_Shapefiles/PADUS2_0Designation',\n",
    "    'easement': 'data/PADUS2_0_Shapefiles/PADUS2_0Easement',\n",
    "    'fee': 'data/PADUS2_0_Shapefiles/PADUS2_0Fee',\n",
    "    'marine': 'data/PADUS2_0_Shapefiles/PADUS2_0Marine',\n",
    "    'proclamation': 'data/PADUS2_0_Shapefiles/PADUS2_0Proclamation'\n",
    "}"
   ],
   "metadata": {
    "collapsed": false,
    "pycharm": {
     "name": "#%%\n"
    }
   }
  },
  {
   "cell_type": "markdown",
   "source": [
    "Exploring some of the data below."
   ],
   "metadata": {
    "collapsed": false,
    "pycharm": {
     "name": "#%% md\n"
    }
   }
  },
  {
   "cell_type": "code",
   "execution_count": 25,
   "outputs": [
    {
     "name": "stdout",
     "output_type": "stream",
     "text": [
      "shapefile Reader\n",
      "    56 shapes (type 'POLYGON')\n",
      "    56 records (12 fields)\n"
     ]
    }
   ],
   "source": [
    "f = base_filenames['boundaries']\n",
    "sf = shapefile.Reader(f)\n",
    "shapes = sf.shapes()\n",
    "len(sf.shapes())\n",
    "print(sf)"
   ],
   "metadata": {
    "collapsed": false,
    "pycharm": {
     "name": "#%%\n"
    }
   }
  },
  {
   "cell_type": "code",
   "execution_count": 26,
   "outputs": [
    {
     "data": {
      "text/plain": "[0]"
     },
     "execution_count": 26,
     "metadata": {},
     "output_type": "execute_result"
    }
   ],
   "source": [
    "shapes[2].parts"
   ],
   "metadata": {
    "collapsed": false,
    "pycharm": {
     "name": "#%%\n"
    }
   }
  },
  {
   "cell_type": "code",
   "execution_count": 27,
   "outputs": [
    {
     "data": {
      "text/plain": "[(-1708149.041099999, 1273314.1705999998),\n (-1708163.1033999994, 1273331.6206999999),\n (-1708258.6941, 1273449.0017),\n (-1708432.6928000003, 1273639.4233999997),\n (-1708725.6258000005, 1273808.2806000002),\n (-1709071.1588000003, 1273964.2149),\n (-1709378.1477000006, 1274100.1522000004),\n (-1710027.6262999997, 1274345.5176999997),\n (-1710445.7851, 1274466.6036999999),\n (-1711063.8606000002, 1274595.9488000004),\n (-1711357.1028000005, 1274671.1105000004),\n (-1711738.4651999995, 1274851.8837000001),\n (-1712026.355799999, 1274952.6339999996),\n (-1712390.5582999997, 1275001.0279),\n (-1712767.4847999997, 1275198.3816999998),\n (-1712981.0765000004, 1275293.9051),\n (-1713302.3100000005, 1275348.0559),\n (-1713529.9891, 1275291.6491),\n (-1713545.3000000007, 1275288.8783999998),\n (-1713612.2369, 1275276.7611999996),\n (-1713694.5458000004, 1275227.6397000002),\n (-1713728.4591000006, 1275207.3909),\n (-1713957.4319000002, 1275023.1388999997),\n (-1714157.3651, 1274790.1325000003),\n (-1714357.0702999998, 1274611.3554999996),\n (-1714443.4037999995, 1274573.5043000001),\n (-1714463.6125000007, 1274564.6511000004),\n (-1714586.8566999994, 1274510.5617000004),\n (-1714692.7616000008, 1274499.5728000002),\n (-1714704.8390999995, 1274498.3249000004),\n (-1714857.0123999994, 1274482.6245),\n (-1715315.7674000002, 1274530.3027),\n (-1715424.9682999998, 1274533.7428000001),\n (-1715445.9488999993, 1274534.3744),\n (-1715632.5505, 1274540.3025000002),\n (-1715699.0813999996, 1274554.1744),\n (-1715703.2487000003, 1274555.1144000003),\n (-1715897.9923, 1274595.8857000005),\n (-1715917.2634999994, 1274600.8443999998),\n (-1715955.7364000008, 1274610.6343999999),\n (-1715985.6708000004, 1274618.6178000001),\n (-1715997.2664, 1274621.7134999996),\n (-1716035.6089999992, 1274632.1607),\n (-1716050.7820999995, 1274636.3070999999),\n (-1716107.9879, 1274651.8603999997),\n (-1716109.5011, 1274653.2983),\n (-1716371.3664999995, 1274723.0927999998),\n (-1716842.9414000008, 1274875.5713999998),\n (-1717477.6449999996, 1275113.1332),\n (-1717907.4255, 1275371.1656999998),\n (-1718066.4439000003, 1275484.0921999998),\n (-1718194.1915000007, 1275617.2116),\n (-1718259.617900001, 1275706.2121000001),\n (-1718358.0329999998, 1275895.9798999997),\n (-1718450.9318000004, 1276195.9390000002),\n (-1718595.3562000003, 1276590.4533000002),\n (-1718602.8772999998, 1276615.9567),\n (-1718606.1316, 1276626.7303),\n (-1718623.0853000004, 1276685.7407),\n (-1718627.3805, 1276696.0383000001),\n (-1718727.0072000008, 1276932.9389000004),\n (-1718767.9254, 1277029.9374000002),\n (-1718864.2202000003, 1277199.7264),\n (-1718878.0226000007, 1277224.0888),\n (-1718921.2696000002, 1277340.7824999997),\n (-1718926.9481000006, 1277356.0208),\n (-1718974.9737, 1277468.6579),\n (-1719128.4353, 1277681.6733999997),\n (-1719381.5776000004, 1277931.1182000004),\n (-1719481.4693, 1277980.3310000002),\n (-1719589.4473, 1277946.4897999996),\n (-1719803.1338, 1277800.7522),\n (-1720042.2777999993, 1277548.9034000002),\n (-1720260.5996000003, 1277252.864),\n (-1720263.0693999995, 1277249.4861000003),\n (-1720280.3672000002, 1277213.8942),\n (-1720330.0045999996, 1277147.9773000004),\n (-1720350.4222, 1277120.9715),\n (-1720562.8915999997, 1276853.0195000004),\n (-1720888.2630000003, 1276544.2567999996),\n (-1721096.0673999991, 1276453.5884999996),\n (-1721322.1877999995, 1276499.2528),\n (-1721545.0077999998, 1276684.2350000003),\n (-1721786.0263, 1276970.8252999997),\n (-1721979.0501000006, 1277234.5592999998),\n (-1722060.6998999994, 1277500.0286999997),\n (-1722153.7923000008, 1277714.6346000005),\n (-1722180.0031000003, 1278107.3395999996),\n (-1722181.7040999997, 1278131.1210000003),\n (-1722178.7938, 1278165.7057999996),\n (-1722166.9598999992, 1278305.4863),\n (-1722162.4704, 1278357.5097000003),\n (-1722139.0533000007, 1278478.9386999998),\n (-1721956.1394999996, 1279075.9408999998),\n (-1721878.8772, 1279397.9818000002),\n (-1721942.8359999992, 1279555.8120999997),\n (-1722035.4525000006, 1279667.1139000002),\n (-1722212.9218000006, 1280010.4014999997),\n (-1722317.6973, 1280264.9057999998),\n (-1722327.0233999994, 1280285.5407999996),\n (-1722349.8213, 1280336.3994000005),\n (-1722406.3789000008, 1280456.2329000002),\n (-1722423.1604999993, 1280491.2128999997),\n (-1722733.4995000008, 1281138.5609),\n (-1722814.852499999, 1281741.2204999998),\n (-1722765.1755999997, 1282079.3507000003),\n (-1722620.1011999995, 1282470.404),\n (-1722633.1579999998, 1282605.7074999996),\n (-1722915.9474, 1282861.3361),\n (-1723095.5855, 1282947.2119000005),\n (-1723319.7299000006, 1283011.0060999999),\n (-1723687.2097999994, 1283081.3016999997),\n (-1723996.6344000008, 1283220.7312000003),\n (-1724132.3608999997, 1283374.0173000004),\n (-1724189.2210000008, 1283720.2013999997),\n (-1724154.0383000001, 1284045.5270999996),\n (-1724058.0568000004, 1284414.3848),\n (-1723884.0735999998, 1284875.1320000002),\n (-1723728.9916999992, 1285248.2567999996),\n (-1723318.1552000009, 1286126.2750000004),\n (-1722673.355799999, 1287280.3476999998),\n (-1722461.0283000004, 1287649.2528999997),\n (-1722324.0463999994, 1287902.9699999997),\n (-1722086.0269000009, 1288121.983),\n (-1721573.6757999994, 1288505.2127),\n (-1721222.4865000006, 1288920.0018999996),\n (-1720868.0298999995, 1289514.1002000002),\n (-1720520.455, 1290239.9053999996),\n (-1720171.9805999994, 1290654.3580999998),\n (-1720044.3421, 1291012.9726999998),\n (-1720055.6939000003, 1291552.9260999998),\n (-1720039.5292000007, 1291767.9041999998),\n (-1719967.9064000007, 1291817.7232999997),\n (-1719892.0490000006, 1292014.5549999997),\n (-1719757.5628999993, 1292341.6500000004),\n (-1719753.8991, 1292345.8147999998),\n (-1719747.2984999996, 1292354.2893000003),\n (-1719595.2961, 1292559.1813000003),\n (-1719308.3619999997, 1293038.9567999998),\n (-1719179.0724999998, 1293464.8693000004),\n (-1719104.9925999995, 1293756.3081),\n (-1719101.4647000004, 1294005.1091999998),\n (-1719110.3629, 1294347.1041),\n (-1719112.3595000003, 1294420.5777000003),\n (-1719127.3553, 1295000.8901000004),\n (-1719128.6653000005, 1295048.3891000003),\n (-1719127.9969999995, 1295058.3865999999),\n (-1719095.5722000003, 1295492.5559),\n (-1718921.078400001, 1295860.4209000003),\n (-1718691.3528000005, 1296252.9211),\n (-1718568.4991999995, 1296563.5735999998),\n (-1718293.9444999993, 1297131.1054999996),\n (-1718201.3805, 1297553.8823999995),\n (-1718226.9123999998, 1297830.2221),\n (-1718450.9472000003, 1298420.7605999997),\n (-1718690.5836999994, 1298862.1136999996),\n (-1718771.0829000007, 1299010.1929000001),\n (-1718852.2630000003, 1299317.8914),\n (-1719048.3665999994, 1299869.4423000002),\n (-1719151.1532000005, 1300254.7669000002),\n (-1719153.2073, 1300262.4616999999),\n (-1719138.4049999993, 1300393.613),\n (-1718983.5755000003, 1300537.7342999997),\n (-1718706.466, 1300606.7280000001),\n (-1718488.8435999993, 1300674.7139999997),\n (-1718215.0073000006, 1300868.1136999996),\n (-1717885.288899999, 1301054.4916000003),\n (-1717572.0552999992, 1301125.4312000005),\n (-1717398.2961, 1301255.3338000001),\n (-1717290.6435000002, 1301399.7633999996),\n (-1717276.1217999998, 1301621.1289),\n (-1717366.6553000007, 1302206.5114000002),\n (-1717485.0616999995, 1302766.9435999999),\n (-1717726.1960000005, 1303202.8084000004),\n (-1718022.8177000005, 1303540.4516000003),\n (-1718367.1881000008, 1303818.2932000002),\n (-1718856.1404, 1304134.7565000001),\n (-1719088.4805999994, 1304259.6162999999),\n (-1719574.1369000003, 1304520.4852),\n (-1720298.4233999997, 1304827.1626000004),\n (-1720864.7815000005, 1305146.7950999998),\n (-1721169.2536999993, 1305415.4508999996),\n (-1721289.4679000005, 1305564.3413000004),\n (-1721381.3915999997, 1305926.2988999998),\n (-1721550.3210000005, 1306593.8510999996),\n (-1721662.8049999997, 1307077.085),\n (-1721698.2782000005, 1307280.2295000004),\n (-1721663.0727999993, 1307456.0532999998),\n (-1721506.2040999997, 1307618.9686000003),\n (-1721140.6834999993, 1307833.8180999998),\n (-1720935.8016999997, 1308000.5911999997),\n (-1720797.3018999994, 1308202.0235000001),\n (-1720704.7690999992, 1308254.9414),\n (-1720517.9115999993, 1308369.3026),\n (-1720262.7578999996, 1308511.1398999998),\n (-1720102.0655000005, 1308581.8859),\n (-1719687.8282999992, 1308751.5417999998),\n (-1719440.8100000005, 1308881.5875000004),\n (-1719435.1104000006, 1308885.5740999999),\n (-1719346.2313, 1308940.5990000004),\n (-1719123.5373, 1309144.0443000002),\n (-1718784.1669999994, 1309576.5289000003),\n (-1718413.1378000006, 1310158.0098),\n (-1718407.9012000002, 1310166.3017999995),\n (-1718397.1777999997, 1310182.7221999997),\n (-1718304.7214000002, 1310336.6650999999),\n (-1718255.8120000008, 1310418.3397000004),\n (-1718195.7436999995, 1310518.6253000004),\n (-1718032.0221999995, 1310944.9371999996),\n (-1717862.296599999, 1311440.1908999998),\n (-1717763.9606999997, 1311826.6003999999),\n (-1717595.7156000007, 1312155.5831000004),\n (-1717517.7402, 1312610.6125999996),\n (-1717498.2449999992, 1313127.4000000004),\n (-1717537.1864999998, 1313317.9063999997),\n (-1717560.2822999991, 1313430.9046999998),\n (-1717630.7415999994, 1313835.3772999998),\n (-1717744.3730999995, 1314325.3192999996),\n (-1717824.4749999996, 1314571.6347000003),\n (-1717890.085000001, 1314786.1414),\n (-1717900.5546000004, 1314863.6064999998),\n (-1717901.9898000006, 1314874.3682000004),\n (-1717911.9503000006, 1314972.3411999997),\n (-1717908.6831999999, 1315078.0378999999),\n (-1717886.1923999991, 1315166.2373000002),\n (-1717873.9115999993, 1315189.0658),\n (-1717866.1190000009, 1315203.5664),\n (-1717861.0280000009, 1315213.0264999997),\n (-1717823.7862, 1315282.5711000003),\n (-1717793.7350999992, 1315404.9024),\n (-1717778.8211000003, 1315486.3011999996),\n (-1717779.1819000002, 1315574.2761000004),\n (-1717779.2781000007, 1315619.1577000003),\n (-1717843.8059, 1315814.4379000003),\n (-1717882.4669000003, 1315867.2391999997),\n (-1717902.6195, 1315894.7148000002),\n (-1717965.5865000002, 1315980.1476999996),\n (-1717987.4046, 1316009.6639),\n (-1718025.4334999993, 1316066.0977999996),\n (-1718026.4401999991, 1316067.665),\n (-1718032.7052999996, 1316076.8853000002),\n (-1718037.4134, 1316083.5176999997),\n (-1718042.1434000004, 1316090.0406),\n (-1718124.6319999993, 1316210.3410999998),\n (-1718162.3180999998, 1316266.5938),\n (-1718195.4915999994, 1316311.9263000004),\n (-1718219.0848999992, 1316349.5406),\n (-1718224.7621, 1316358.8716000002),\n (-1718261.2821999993, 1316445.5225999998),\n (-1718353.7632, 1316664.9495),\n (-1718497.3868000004, 1316964.2715999996),\n (-1718517.6329999994, 1317002.5861),\n (-1718576.041099999, 1317146.671),\n (-1718587.7355000004, 1317175.4223999996),\n (-1718593.4935999997, 1317190.0080000004),\n (-1718674.5721000005, 1317344.6539000003),\n (-1718691.4937999994, 1317376.9539),\n (-1718727.0774000008, 1317444.6344999997),\n (-1718761.6896000002, 1317519.0675),\n (-1718777.2639000006, 1317552.9209000003),\n (-1718835.0121999998, 1317678.5454000002),\n (-1718923.8489999995, 1317883.4818000002),\n (-1718952.0726999994, 1318015.8546000002),\n (-1718967.5045999996, 1318088.1689999998),\n (-1718976.2707000002, 1318112.6933000004),\n (-1718960.8183999993, 1318304.7849000003),\n (-1718916.1868999992, 1318408.9500000002),\n (-1718752.1195, 1318545.0707999999),\n (-1718585.9714000002, 1318609.0395),\n (-1718569.2382999994, 1318609.7991000004),\n (-1718558.4100000001, 1318610.7122999998),\n (-1718455.4630999994, 1318619.5443000002),\n (-1718437.0618999992, 1318621.1098999996),\n (-1718381.3616000004, 1318625.9354999997),\n (-1718166.5974000003, 1318584.6714000003),\n (-1718001.0287999995, 1318527.2662000004),\n (-1717791.0326000005, 1318437.5439),\n (-1717562.8970999997, 1318390.0982999997),\n (-1717342.7896999996, 1318380.812),\n (-1717100.5987, 1318373.6178000001),\n (-1716966.9327000007, 1318356.5283000004),\n (-1716946.0189999994, 1318354.6354999999),\n (-1716814.9223999996, 1318342.6153999995),\n (-1716776.7432000004, 1318346.0483),\n (-1716714.7640000004, 1318348.8355),\n (-1716609.8715000004, 1318388.7282999996),\n (-1716495.5439999998, 1318434.3705000002),\n (-1716346.6764000002, 1318511.0464000003),\n (-1716289.0971000008, 1318556.0467999997),\n (-1716245.538899999, 1318600.654),\n (-1716232.6724999994, 1318613.6892),\n (-1716197.4433999993, 1318649.5949),\n (-1716189.8767000008, 1318657.3098999998),\n (-1716182.2882000003, 1318665.1343999999),\n (-1716157.5187, 1318727.4924999997),\n (-1716120.9620999992, 1318848.9892999995),\n (-1716112.1561999992, 1318876.1562),\n (-1716011.9902999997, 1318977.4601999996),\n (-1715783.2697, 1319044.1501000002),\n (-1715550.6970000006, 1319084.3441000003),\n (-1715252.4213999994, 1319145.6138000004),\n (-1715171.5042000003, 1319127.6719000004),\n (-1714967.0288999993, 1319096.8469000002),\n (-1714289.7447999995, 1319045.9992000004),\n (-1714228.6295999996, 1319042.1430000002),\n (-1714225.2153999992, 1319042.2602000004),\n (-1714099.4287, 1319042.9500000002),\n (-1714034.0035999995, 1319040.4005000005),\n (-1713933.9053000007, 1319022.2955999998),\n (-1713883.7913000006, 1318980.2106999997),\n (-1713611.8375000004, 1318784.4374000002),\n (-1713567.2972, 1318753.1425),\n (-1713510.0244999994, 1318712.9378000004),\n (-1713418.5327000003, 1318648.7311000004),\n (-1713373.5725999996, 1318612.9133000001),\n (-1713352.3673, 1318593.0949),\n (-1713331.1835999992, 1318573.1670000004),\n (-1713315.1952, 1318558.3717999998),\n (-1713283.3087000009, 1318528.7997000003),\n (-1713229.3754999992, 1318478.9007),\n (-1713099.2378000002, 1318398.2418999998),\n (-1712989.6325000003, 1318332.2591000004),\n (-1712833.583900001, 1318217.5306000002),\n (-1712734.5603999998, 1318124.8508000001),\n (-1712668.9730999991, 1318071.9552999996),\n (-1712629.7525999993, 1318056.9815999996),\n (-1712535.8684999999, 1318021.8000999996),\n (-1712309.9175000004, 1317986.6578000002),\n (-1712179.460000001, 1317963.4496),\n (-1711866.0732000005, 1317981.9798999997),\n (-1711233.0843000002, 1318210.5930000003),\n (-1710988.8979000002, 1318354.0264999997),\n (-1710367.3463000003, 1318719.3136),\n (-1710143.2829999998, 1318936.5560999997),\n (-1709891.9246999994, 1319083.5998999998),\n (-1709747.4165000003, 1319212.3608),\n (-1709460.9421999995, 1319630.2424999997),\n (-1709408.1228999998, 1319748.2950999998),\n (-1709401.7517000008, 1319760.4647000004),\n (-1709356.1568999998, 1319848.3008000003),\n (-1709327.9827999994, 1319914.3206000002),\n (-1709202.018100001, 1320132.8433999997),\n (-1708795.7288000006, 1320914.5131),\n (-1708757.728599999, 1320995.4342999998),\n (-1708658.6116000004, 1321207.3386000004),\n (-1708607.7759000007, 1321575.3589000003),\n (-1708608.5954999998, 1321986.6533000004),\n (-1708589.5623000003, 1322070.2023),\n (-1708520.3615000006, 1322204.9331999999),\n (-1707973.3859, 1322796.2391999997),\n (-1707508.9310999997, 1323228.6073000003),\n (-1707464.2281999998, 1323320.6138000004),\n (-1707462.0475999992, 1323324.9631000003),\n (-1707455.5310999993, 1323338.3575),\n (-1707453.4192999993, 1323342.8343000002),\n (-1707431.8016, 1323387.2753999997),\n (-1707421.5288999993, 1323408.6914999997),\n (-1707339.8709999993, 1323494.8464000002),\n (-1707307.4820000008, 1323529.0669),\n (-1707265.5453999992, 1323573.4620000003),\n (-1707197.2445, 1323622.1907000002),\n (-1706984.5478000008, 1323774.0062999995),\n (-1706758.0371000003, 1323935.7241000002),\n (-1706413.3256, 1324277.3507000003),\n (-1706389.4310999997, 1324304.8331000004),\n (-1706229.4442999996, 1324490.9122000001),\n (-1706204.9264000002, 1324496.8666000003),\n (-1706194.6411000006, 1324499.3814000003),\n (-1706163.6733, 1324507.0171999997),\n (-1706153.4570000004, 1324509.6595),\n (-1706144.0300999992, 1324512.1167000001),\n (-1706058.7259, 1324544.1601),\n (-1705815.8548000008, 1324828.4631000003),\n (-1705675.4480000008, 1325083.8985000001),\n (-1705458.3231000006, 1325479.0849000001),\n (-1705113.8065000009, 1325912.3296999997),\n (-1705021.231899999, 1325993.4913999997),\n (-1704893.6115000006, 1326180.7669000002),\n (-1704839.2886999995, 1326269.7386999996),\n (-1704748.8394000009, 1326339.2551999995),\n (-1704683.1153999995, 1326392.7226),\n (-1704544.8709999993, 1326508.3312),\n (-1704488.4681000002, 1326557.4985999996),\n (-1704383.422700001, 1326609.5526),\n (-1703923.6414, 1326797.4112999998),\n (-1703592.9433999993, 1326909.7522999998),\n (-1703207.070699999, 1326907.4590999996),\n (-1702962.1048000008, 1326907.5744000003),\n (-1702772.8800000008, 1326941.1589000002),\n (-1702543.4199, 1327015.5121),\n (-1702311.3636000007, 1327176.6809),\n (-1702087.0574999992, 1327353.3920999998),\n (-1701790.3103999998, 1327529.7786999997),\n (-1701720.2851999998, 1327578.9978999998),\n (-1701604.704500001, 1327685.9216999998),\n (-1701564.761499999, 1327782.7626),\n (-1701534.2785999998, 1327846.5228000004),\n (-1701469.4005999994, 1328160.2134999996),\n (-1701455.8553999998, 1328277.6473000003),\n (-1701428.4977000002, 1328515.7642),\n (-1701311.3202999998, 1328757.745),\n (-1701231.9867000002, 1329014.2721999995),\n (-1701169.8197000008, 1329192.1084000003),\n (-1701090.9780000001, 1329301.1813000003),\n (-1700995.1108, 1329369.8849),\n (-1699770.5810000002, 1329958.301),\n (-1699331.958900001, 1330167.2785999998),\n (-1698291.7638000008, 1330574.3931999998),\n (-1698177.8803000003, 1330713.1102999998),\n (-1698116.5942000002, 1330794.4762000004),\n (-1697979.0379000008, 1330836.9856000002),\n (-1697688.7585000005, 1330864.596),\n (-1697545.5302000009, 1330924.4349999996),\n (-1697503.8166000005, 1330991.4528),\n (-1697492.6808000002, 1331009.2915000003),\n (-1697494.5023999996, 1331058.1503999997),\n (-1697494.8564999998, 1331067.7835),\n (-1697495.2991000004, 1331079.8249000004),\n (-1697539.3487999998, 1331226.1645),\n (-1697560.3454, 1331278.3542),\n (-1697564.7743999995, 1331289.2473),\n (-1697639.9466999993, 1331476.4573999997),\n (-1697634.4696999993, 1331537.9929999998),\n (-1697682.9082999993, 1331667.7828000002),\n (-1697719.7826000005, 1331765.6887999997),\n (-1697765.445699999, 1331843.3578000003),\n (-1697791.1975999996, 1331863.3576999996),\n (-1697811.3593000006, 1331865.9732),\n (-1697863.3763999995, 1331952.8673999999),\n (-1697901.0394000001, 1331998.2180000003),\n (-1697975.133199999, 1332087.5380999995),\n (-1698014.791099999, 1332229.3739999998),\n (-1698013.5263999999, 1332343.3173000002),\n (-1698013.1328999996, 1332381.9490999999),\n (-1698013.9674999993, 1332392.4744999995),\n (-1698028.476399999, 1332564.0687999995),\n (-1698028.7749000005, 1332567.3156000003),\n (-1698071.5066999998, 1332691.6580999997),\n (-1698094.7970000003, 1332754.5513000004),\n (-1698158.5994000006, 1332872.1273999996),\n (-1698188.1982000005, 1332936.3812999995),\n (-1698207.5012999997, 1332981.8650000002),\n (-1698242.5055, 1333194.2861000001),\n (-1698244.5704999994, 1333249.0022999998),\n (-1698233.5609000009, 1333394.1541),\n (-1698230.2875999995, 1333423.5648999996),\n (-1698228.4618999995, 1333439.9408),\n (-1698220.230799999, 1333515.8492),\n (-1698221.640900001, 1333535.8246),\n (-1698228.0368000008, 1333622.3652),\n (-1698231.4022000004, 1333668.1164999995),\n (-1698234.9892999995, 1333716.0749000004),\n (-1698300.4690000005, 1333844.12),\n (-1698315.1115000006, 1333872.7444000002),\n (-1698348.5483, 1334074.955),\n (-1698351.0087000001, 1334279.3568000002),\n (-1698351.444599999, 1334315.1937999995),\n (-1698342.5178999994, 1334507.7824),\n (-1698334.4067000002, 1334568.8005999997),\n (-1698293.169399999, 1334733.2582999999),\n (-1698252.2010999992, 1334900.1605000002),\n (-1698237.5265999995, 1334948.2686),\n (-1698202.4426000006, 1335022.6297000004),\n (-1698166.7788999993, 1335159.8394),\n (-1698169.7234000005, 1335177.2720999997),\n (-1698175.4340000004, 1335209.7112999996),\n (-1698179.885399999, 1335291.3158999998),\n (-1698182.8118999992, 1335309.3143999996),\n (-1698185.7128999997, 1335326.9663000004),\n (-1698165.4363000002, 1335417.6889000004),\n (-1698146.3187000006, 1335503.9726),\n (-1698092.5525000002, 1335554.4896999998),\n (-1698065.9046, 1335579.5100999996),\n (-1697986.052100001, 1335654.5899),\n (-1697959.4735000003, 1335679.7381999996),\n (-1697951.6358000003, 1335687.0703999996),\n (-1697950.450099999, 1335688.3163),\n (-1697928.0069999993, 1335708.7027000003),\n (-1697920.1909999996, 1335715.9254),\n (-1697877.2575000003, 1335755.3764000004),\n (-1697860.3126999997, 1335769.3348000003),\n (-1697809.6631000005, 1335811.7019999996),\n (-1697792.8776999991, 1335825.8058000002),\n (-1697788.4202999994, 1335829.8210000005),\n (-1697778.2394999992, 1335845.6851000004),\n (-1697774.8314999994, 1335851.0462999996),\n (-1697718.2468999997, 1335939.1506000003),\n (-1697691.2252999991, 1335981.2906),\n (-1697515.6082000006, 1336167.3657999998),\n (-1697446.0666000005, 1336241.1845000004),\n (-1697290.884299999, 1336430.3891000003),\n (-1697230.3336999994, 1336499.6091),\n (-1697208.1166999992, 1336525.0514000002),\n (-1697129.5972000007, 1336614.8605000004),\n (-1696998.4247999992, 1336765.3179000001),\n (-1696979.1447, 1336774.9452),\n (-1696975.7435999997, 1336778.3723),\n (-1696962.4498999994, 1336791.4590999996),\n (-1696782.887599999, 1336969.5935000004),\n (-1696733.8434999995, 1337005.7928),\n (-1696687.1783000007, 1337040.4124999996),\n (-1696639.1905000005, 1337076.0237999996),\n (-1696518.3477999996, 1337165.6774000004),\n (-1696241.2139999997, 1337242.9194999998),\n (-1696039.5187999997, 1337349.6348),\n (-1696005.7139999997, 1337444.7494),\n (-1695991.678200001, 1337484.4472000003),\n (-1695997.6250999998, 1337578.9836999997),\n (-1696003.6502, 1337672.1694999998),\n (-1696168.5602000002, 1337890.6556000002),\n (-1696175.930400001, 1337900.4223999996),\n (-1696253.3099000007, 1338000.8661000002),\n (-1696377.5428, 1338162.2545999996),\n (-1696395.8571000006, 1338239.3101000004),\n (-1696406.2873999998, 1338283.0421000002),\n (-1696439.1459, 1338421.0383000001),\n (-1696447.3658000007, 1338618.1585999997),\n (-1696486.9519999996, 1338676.4162999997),\n (-1696578.3313999996, 1338858.0806),\n (-1696592.6941, 1338897.5805000002),\n (-1696576.9181999993, 1338975.0779999997),\n (-1696567.4726, 1339019.0983999996),\n (-1696494.3246, 1339333.8235),\n (-1696483.2651000004, 1339365.5697999997),\n (-1696400.082800001, 1339442.9628999997),\n (-1696363.5229000002, 1339449.2920000004),\n (-1696310.3666999992, 1339464.5268),\n (-1696275.6604999993, 1339476.6875999998),\n (-1696017.4352000002, 1339506.5373999998),\n (-1695689.2457999997, 1339947.3943999996),\n (-1695699.4323999994, 1340421.8150000004),\n (-1695703.9735000003, 1340629.9398999996),\n (-1695942.8204999994, 1340960.5066),\n (-1696010.3828999996, 1341053.8948999997),\n (-1696182.1258000005, 1341474.0412999997),\n (-1696242.4814999998, 1341621.4620000003),\n (-1696170.9454999994, 1341973.6359),\n (-1696044.6722999997, 1342123.3636999996),\n (-1695874.3962999992, 1342234.0000999998),\n (-1695352.6897999998, 1342299.2704999996),\n (-1694736.1879999992, 1342176.2045999998),\n (-1694349.6910999995, 1342337.5618000003),\n (-1694257.5150000006, 1342565.8849),\n (-1694332.9781, 1342791.8768999996),\n (-1694475.1827000007, 1342916.0404000003),\n (-1694800.9686999992, 1342958.0241999999),\n (-1694911.3785999995, 1343010.2208000002),\n (-1695296.142000001, 1343192.307),\n (-1695578.3247999996, 1343582.9123999998),\n (-1695683.6336000003, 1343931.7640000004),\n (-1695512.4145, 1344513.5180000002),\n (-1695431.6338999998, 1344692.0510999998),\n (-1695316.7322000004, 1344945.9455000004),\n (-1695010.5286999997, 1345277.0707999999),\n (-1694596.0921, 1345559.0515),\n (-1694102.2871000003, 1345756.9479),\n (-1693436.0505999997, 1345945.3271000003),\n (-1693192.7918999996, 1345946.5256000003),\n (-1693021.5737999994, 1345947.3657999998),\n (-1692728.6526999995, 1346003.9118999997),\n (-1692512.883199999, 1346101.7558000004),\n (-1692304.8545999993, 1346152.2827000003),\n (-1692097.0822, 1346203.4338999996),\n (-1691876.7967000008, 1346277.6283999998),\n (-1691773.7032999992, 1346434.1366999997),\n (-1691691.3281999994, 1346765.4119999995),\n (-1691620.5982000008, 1346915.7763),\n (-1691505.263699999, 1347171.5553000001),\n (-1691431.7074999996, 1347444.7933),\n (-1691429.4879, 1347459.386),\n (-1691385.3768000007, 1347744.5773999998),\n (-1691368.0417999998, 1347971.966),\n (-1691354.6755999997, 1348170.6463000001),\n (-1691355.2732999995, 1348262.3125),\n (-1691356.146400001, 1348394.4556999998),\n (-1691383.1549999993, 1348590.0509000001),\n (-1691402.8299000002, 1348718.1582000004),\n (-1691456.0150000006, 1348828.0488999998),\n (-1691512.4397999998, 1348908.1763000004),\n (-1691596.8052999992, 1348988.3474000003),\n (-1691663.9082999993, 1349060.4474),\n (-1691718.2141999993, 1349127.5198),\n (-1691835.8713000007, 1349421.7282999996),\n (-1691897.6155999992, 1349829.1468000002),\n (-1692081.1585000008, 1350145.8101000004),\n (-1692324.2993, 1350339.9825),\n (-1692358.8363000005, 1350385.9678999996),\n (-1692375.08, 1350415.8185999999),\n (-1692400.8651, 1350463.38),\n (-1692401.8476999998, 1350465.0542000001),\n (-1692502.1448999997, 1350649.7301000003),\n (-1692450.796599999, 1350731.2670999998),\n (-1692287.6809, 1350990.0322000002),\n (-1692268.4789000005, 1351013.6874000002),\n (-1691968.8507000003, 1351384.1103999997),\n (-1691666.9013, 1351866.2489),\n (-1691481.8183999993, 1352248.4594),\n (-1691429.3822000008, 1352349.3728999998),\n (-1691397.6995, 1352491.9578999998),\n (-1691358.9213999994, 1352656.2604),\n (-1691330.7030999996, 1352776.5264999997),\n (-1691300.1136000007, 1352936.8646),\n (-1691279.9772999994, 1353190.1368000004),\n (-1691273.1209999993, 1353276.2407),\n (-1691262.4792, 1353364.9006000003),\n (-1691259.0243999995, 1353393.8268),\n (-1691261.7711999994, 1353478.2948000003),\n (-1691263.1711999997, 1353519.6799999997),\n (-1691259.4255999997, 1353704.5588999996),\n (-1691271.4984000009, 1353882.4232),\n (-1691291.7666999996, 1354087.6405999996),\n (-1691297.1229999997, 1354218.7445),\n (-1691298.4971999992, 1354251.6983000003),\n (-1691302.7156000007, 1354274.5086000003),\n (-1691331.2862, 1354430.0066),\n (-1691375.9981999993, 1354681.386),\n (-1691425.6074, 1354940.2242),\n (-1691466.2857000008, 1355239.5515),\n (-1691507.6871000007, 1355526.1552),\n (-1691570.896400001, 1355839.9538000003),\n (-1691614.0022999998, 1356071.7796),\n (-1691664.5941000003, 1356260.8980999999),\n (-1691697.0589000005, 1356450.1986999996),\n (-1691727.1281000003, 1356661.1206999999),\n (-1691736.2355000004, 1356872.3482),\n (-1691734.5594999995, 1357106.3887999998),\n (-1691736.9883999992, 1357420.2757),\n (-1691724.6456000004, 1357579.6688),\n (-1691732.5134999994, 1357682.2369999997),\n (-1691760.2598, 1357798.9785000002),\n (-1691789.4426000006, 1357940.7171),\n (-1691825.0461999997, 1358100.2369999997),\n (-1691866.9196000006, 1358241.7487000003),\n (-1691884.9092999995, 1358366.5883),\n (-1691895.3950999994, 1358501.9049000004),\n (-1691909.8507000003, 1358621.3782000002),\n (-1691940.6096, 1358727.5569000002),\n (-1691971.1590999998, 1358889.8409000002),\n (-1691997.8937999997, 1359062.4194999998),\n (-1692039.389799999, 1359214.7942000004),\n (-1692096.9344999995, 1359373.1857000003),\n (-1692130.773, 1359471.3196999999),\n (-1692144.2690999992, 1359510.2012999998),\n (-1692165.6904000007, 1359626.6116000004),\n (-1692167.6779999994, 1359713.3318999996),\n (-1692171.6931999996, 1359780.2943000002),\n (-1692142.7489999998, 1359849.0621999996),\n (-1692064.9519999996, 1359899.0722000003),\n (-1691938.8000000007, 1359950.5823),\n (-1691806.990700001, 1360003.7103000004),\n (-1691603.6373999994, 1360125.5129000004),\n (-1691445.6143999994, 1360306.7200999996),\n (-1691358.9792999998, 1360424.8042000001),\n (-1691267.5647999998, 1360612.6704000002),\n (-1691217.7013000008, 1360778.4445000002),\n (-1691210.4652999993, 1361050.0082),\n (-1691222.9966000002, 1361197.6907000002),\n (-1691267.1905000005, 1361571.2040999997),\n (-1691291.5989999995, 1361704.7188),\n (-1691312.6048000008, 1361929.4722999996),\n (-1691331.9346999992, 1362024.1737000002),\n (-1691378.9266, 1362140.0537),\n (-1691433.3894999996, 1362328.1364000002),\n (-1691449.6809999999, 1362489.4354999997),\n (-1691499.0558000002, 1362790.5225),\n (-1691529.4104999993, 1363013.3694000002),\n (-1691573.2153999992, 1363273.8391000004),\n (-1691594.6333000008, 1363436.1541),\n (-1691596.7821999993, 1363600.2451),\n (-1691590.3017999995, 1363701.8121999996),\n (-1691578.8489999995, 1363806.2699999996),\n (-1691547.4572, 1363901.2090999996),\n (-1691540.6534000002, 1363949.4097999996),\n (-1691537.0932, 1364003.9458999997),\n (-1691535.2585000005, 1364086.7271999996),\n (-1691534.1831999999, 1364133.8953999998),\n (-1691529.0607999992, 1364213.4079),\n (-1691525.9551999997, 1364262.7948000003),\n (-1691476.2566, 1364381.6816999996),\n (-1691432.5154, 1364453.3395999996),\n (-1691414.7448999994, 1364482.6321),\n (-1691307.9989999998, 1364546.1758000003),\n (-1691207.5615999997, 1364596.2737999996),\n (-1691120.7533, 1364637.1048999997),\n (-1690981.8922000006, 1364675.0621999996),\n (-1690855.2555, 1364664.8656000001),\n (-1690730.7422000002, 1364621.1494000005),\n (-1690637.4074000008, 1364566.0502000004),\n (-1690562.2689999994, 1364510.7855000002),\n (-1690498.0626999997, 1364464.1715000002),\n (-1690412.1338999998, 1364398.5783000002),\n (-1690312.9114999995, 1364350.5218000002),\n (-1690291.5779999997, 1364340.9584),\n (-1690224.6215000004, 1364311.1160000004),\n (-1690115.1184999999, 1364306.1346000005),\n (-1690020.734099999, 1364329.8777),\n (-1689950.1352999993, 1364357.4038000004),\n (-1689862.0746, 1364441.1645999998),\n (-1689776.8414999992, 1364515.3475000001),\n (-1689657.4833000004, 1364592.1376999998),\n (-1689511.8625000007, 1364641.6530999998),\n (-1689390.0990999993, 1364675.6041),\n (-1689275.1598000005, 1364693.4773000004),\n (-1689191.5428, 1364718.2131000003),\n (-1689084.570699999, 1364787.3165999996),\n (-1688971.9273000006, 1364867.1473000003),\n (-1688894.8213, 1364918.2257000003),\n (-1688837.1928000003, 1364985.9013),\n (-1688793.7348999996, 1365059.1051000003),\n (-1688767.9083999991, 1365148.7695000004),\n (-1688755.3966000006, 1365235.4790000003),\n (-1688758.0306000002, 1365323.2391999997),\n (-1688771.7818, 1365437.2230000002),\n (-1688773.9134, 1365518.5065000001),\n (-1688762.5603, 1365589.8416999998),\n (-1688742.6612, 1365658.4666),\n (-1688713.2226999998, 1365743.6608999996),\n (-1688690.1850000005, 1365819.1838999996),\n (-1688650.2057000007, 1365925.0780999996),\n (-1688663.6373999994, 1366047.3139000004),\n (-1688695.0551999994, 1366146.2183999997),\n (-1688762.1666, 1366248.2905000001),\n (-1688864.8735000007, 1366381.0740999999),\n (-1688972.0746, 1366513.835),\n (-1689133.2328999992, 1366676.2627999997),\n (-1689194.8092, 1366773.6040000003),\n (-1689297.4956999999, 1366948.6470999997),\n (-1689386.1769999992, 1367116.3733),\n (-1689515.4518999998, 1367299.4013),\n (-1689597.204, 1367441.96),\n (-1689739.0629999992, 1367648.4345000004),\n (-1689825.3289, 1367837.7892000005),\n (-1689930.3346999995, 1368028.9089000002),\n (-1690015.6471999995, 1368195.0721000005),\n (-1690070.8244000003, 1368326.1293000001),\n (-1690131.1207999997, 1368564.9226000002),\n (-1690132.7444000002, 1368571.3937),\n (-1690144.2003000006, 1368722.4096999997),\n (-1690140.0085000005, 1368879.6763000004),\n (-1690136.5788000003, 1368995.6338),\n (-1690129.3099000007, 1369088.8504999997),\n (-1690112.8947, 1369173.8828999996),\n (-1690087.4105999991, 1369216.6897),\n (-1690025.4251000006, 1369228.7121000001),\n (-1689957.7797999997, 1369209.2059000004),\n (-1689846.4131000005, 1369135.2806000002),\n (-1689758.8161999993, 1369050.4450000003),\n (-1689670.947899999, 1368962.7096999995),\n (-1689561.0145999994, 1368862.5335999997),\n (-1689405.6009999998, 1368731.5148999998),\n (-1689321.5384, 1368665.7208000002),\n (-1689201.9323999994, 1368629.7032000003),\n (-1689083.8392999992, 1368623.4855000004),\n (-1688954.6853, 1368646.295),\n (-1688809.5785000008, 1368699.2171999998),\n (-1688680.8893999998, 1368752.4189),\n (-1688574.8419000003, 1368828.426),\n (-1688484.6216000002, 1368944.2308999998),\n (-1688450.3430000003, 1369051.5944999997),\n (-1688435.3761, 1369161.6286000004),\n (-1688430.8664999995, 1369292.1770000001),\n (-1688443.296599999, 1369424.1309000002),\n (-1688473.7609, 1369556.6813000003),\n (-1688510.2667999994, 1369708.8756),\n (-1688546.8301999997, 1369842.7443000004),\n (-1688601.2511, 1370024.102),\n (-1688658.6414, 1370148.1854999997),\n (-1688713.8035000004, 1370246.0888999999),\n (-1688714.0255999994, 1370254.4474),\n (-1688803.1786000002, 1370419.5399000002),\n (-1688902.2257000003, 1370570.9823000003),\n (-1688990.1426999997, 1370696.3109),\n (-1689085.7051999997, 1370851.6255),\n (-1689144.5694999993, 1370935.4576000003),\n (-1689207.5602000002, 1371021.1300999997),\n (-1689276.6525999997, 1371117.1201),\n (-1689359.5627999995, 1371221.3059999999),\n (-1689452.133199999, 1371345.7389000002),\n (-1689529.5461999997, 1371422.3026),\n (-1689606.5984000005, 1371495.9485),\n (-1689713.2881000005, 1371589.1161000002),\n (-1689848.5470000003, 1371703.4182000002),\n (-1689940.010399999, 1371763.2839000002),\n (-1690072.8830999993, 1371856.9582000002),\n (-1690174.8805999998, 1371904.2136000004),\n (-1690260.8724000007, 1371936.3487),\n (-1690295.9057, 1371953.1787999999),\n (-1690333.3301, 1371971.1648000004),\n (-1690334.5256999992, 1371971.7427000003),\n (-1690368.7255000006, 1372000.3687000005),\n (-1690395.8992999997, 1372042.301),\n (-1690405.8403999992, 1372112.2674000002),\n (-1690412.6936000008, 1372175.1312999995),\n (-1690428.4782999996, 1372257.1875999998),\n (-1690427.9561, 1372265.5136000002),\n (-1690425.0721000005, 1372321.7838000003),\n (-1690413.1393999998, 1372388.3405999998),\n (-1690376.8615000006, 1372556.8196999999),\n (-1690350.0757, 1372672.0428),\n (-1690291.1213000007, 1372916.0064000003),\n (-1690249.4930000007, 1373032.9681000002),\n (-1690178.9508999996, 1373145.2432000004),\n (-1690109.6008000001, 1373260.4880999997),\n (-1690015.6132999994, 1373362.6651999997),\n (-1689949.3595000003, 1373452.7792999996),\n (-1689866.5916000009, 1373567.3117000004),\n (-1689793.0523000006, 1373671.5931000002),\n (-1689719.8732999992, 1373778.7939),\n (-1689612.8660000004, 1373929.8896000003),\n (-1689516.4185000006, 1374101.4111000001),\n (-1689426.6384999994, 1374247.7093000002),\n (-1689352.4142000005, 1374355.5033999998),\n (-1689281.769200001, 1374430.9713000003),\n (-1689173.8374000005, 1374535.1858),\n (-1689127.3993999995, 1374593.2224000003),\n (-1689075.8367999997, 1374654.0062999995),\n (-1689014.6648999993, 1374703.7802999998),\n (-1688942.6264999993, 1374772.5961999996),\n (-1688902.1060000006, 1374813.4627999999),\n (-1688851.2815000005, 1374861.5217000004),\n (-1688809.0173000004, 1374897.4879),\n (-1688782.4798000008, 1374927.2187),\n (-1688748.9343999997, 1374960.2362000002),\n (-1688726.0864000004, 1374984.5444),\n (-1688704.4882999994, 1375007.7325),\n (-1688660.861300001, 1375041.6078000003),\n (-1688619.507099999, 1375063.9714000002),\n (-1688582.3347999994, 1375092.6283999998),\n (-1688534.6745999996, 1375109.9885999998),\n (-1688492.0058999993, 1375124.8032),\n (-1688455.259299999, 1375132.3576999996),\n (-1688414.5168999992, 1375137.415),\n (-1688344.2564000003, 1375155.0993),\n (-1688284.5075000003, 1375169.2773000002),\n (-1688219.8279999997, 1375199.9104000004),\n (-1688149.5606999993, 1375231.3776000002),\n (-1688057.2353000008, 1375245.7344000004),\n (-1687975.7742999997, 1375255.7434),\n (-1687894.737400001, 1375244.6501000002),\n (-1687842.6840000004, 1375209.8886000002),\n (-1687767.4843000006, 1375168.7378000002),\n (-1687696.2654, 1375116.4132000003),\n (-1687664.9452999998, 1375098.8430000003),\n (-1687640.7566999998, 1375085.4138000002),\n (-1687582.1865999997, 1375056.6585),\n (-1687509.8441000003, 1375042.7281999998),\n (-1687427.6558999997, 1375051.6876999997),\n (-1687348.6108, 1375063.2044000002),\n (-1687341.0925999992, 1375064.3411999997),\n (-1687281.3944000006, 1375087.7621),\n (-1687217.2380999997, 1375115.7714999998),\n (-1687170.6199999992, 1375127.8766),\n (-1687106.3528000005, 1375155.9787999997),\n (-1687039.1712999996, 1375176.1026999997),\n (-1686972.9118000008, 1375196.295),\n (-1686952.6941, 1375202.5591000002),\n (-1686886.8298000004, 1375230.2337999996),\n (-1686808.8762999997, 1375254.7275),\n (-1686723.8138999995, 1375292.5137),\n (-1686638.5793999992, 1375331.1778999995),\n (-1686554.4662999995, 1375363.6853),\n (-1686544.4134, 1375368.1957),\n (-1686499.3521999996, 1375363.4113999996),\n (-1686482.3473000005, 1375366.6650999999),\n (-1686458.0867999997, 1375375.892),\n (-1686432.6295999996, 1375395.9316999996),\n (-1686381.6327, 1375436.9062),\n (-1686348.645300001, 1375473.7999999998),\n (-1686329.7377000004, 1375492.3975),\n (-1686258.9083999991, 1375557.1413000003),\n (-1686158.1992000006, 1375642.0791999996),\n (-1686023.7369, 1375757.3831000002),\n (-1685913.7613999993, 1375843.3442000002),\n (-1685804.5623000003, 1375924.9033000004),\n (-1685666.3515000008, 1376016.5780999996),\n (-1685604.3088000007, 1376060.505),\n (-1685595.0991999991, 1376069.2829999998),\n (-1685533.08, 1376096.0154),\n (-1685513.9164000005, 1376107.3880000003),\n (-1685455.7057000007, 1376147.0591000002),\n (-1685413.5626999997, 1376175.8866999997),\n (-1685382.6949000005, 1376204.4304999998),\n (-1685336.9984000009, 1376247.0239000004),\n (-1685324.4123, 1376260.6041),\n (-1685275.8323, 1376313.5642999997),\n (-1685191.2676, 1376384.0372000001),\n (-1685088.9104999993, 1376448.4993000003),\n (-1685041.7265000008, 1376478.7270999998),\n (-1684977.0655000005, 1376520.3191999998),\n (-1684865.9070999995, 1376559.2438000003),\n (-1684802.4927999992, 1376613.4979999997),\n (-1684723.8341000006, 1376691.5165999997),\n (-1684660.8532999996, 1376757.8167000003),\n (-1684602.5960000008, 1376827.6673999997),\n (-1684555.8760000002, 1376913.4593000002),\n (-1684518.1662000008, 1377013.7832000004),\n (-1684481.2309000008, 1377081.2281),\n (-1684437.2733999994, 1377132.5965),\n (-1684378.8968000002, 1377184.0865000002),\n (-1684324.1994000003, 1377220.6968),\n (-1684245.5050000008, 1377264.7687),\n (-1684193.6122999992, 1377286.6690999996),\n (-1684146.3559000008, 1377306.8630999997),\n (-1684069.077299999, 1377333.7880999995),\n (-1684047.4956, 1377342.7506999997),\n (-1683964.261, 1377377.6157999998),\n (-1683883.2188000008, 1377405.6235999996),\n (-1683811.3555999994, 1377432.5917999996),\n (-1683678.0557000004, 1377512.3882),\n (-1683619.0978999995, 1377546.4548000004),\n (-1683527.1656, 1377599.8854999999),\n (-1683479.9959999993, 1377627.7311000004),\n (-1683425.6070000008, 1377659.9645999996),\n (-1683423.260399999, 1377661.4390000002),\n (-1683304.1665000003, 1377744.6062000003),\n (-1683262.2037000004, 1377783.0454000002),\n (-1683258.4142000005, 1377786.6277),\n (-1683213.7748000007, 1377832.9688999997),\n (-1683195.8048, 1377874.8782000002),\n (-1683151.1502999999, 1377944.5664),\n (-1683108.0354999993, 1378001.687),\n (-1683056.1181000005, 1378061.7451),\n (-1683010.0859999992, 1378124.6703000003),\n (-1682961.072899999, 1378174.2521000002),\n (-1682911.2968000006, 1378218.2166),\n (-1682850.0745, 1378246.2604999999),\n (-1682801.4969999995, 1378254.6964999996),\n (-1682741.5994000006, 1378251.7929999996),\n (-1682680.6022999994, 1378235.0054000001),\n (-1682622.9998000003, 1378224.2396),\n (-1682510.4648000002, 1378202.4373000003),\n (-1682388.3094999995, 1378179.6547999997),\n (-1682285.2199000008, 1378170.6482999995),\n (-1682186.5877999999, 1378190.767),\n (-1682091.2747000009, 1378265.7558000004),\n (-1682016.4743000008, 1378347.1722999997),\n (-1681958.2885999996, 1378436.2997000003),\n (-1681927.8224, 1378512.3142999997),\n (-1681913.363, 1378584.8715000004),\n (-1681919.7468999997, 1378618.9304),\n (-1681932.3521999996, 1378686.4467000002),\n (-1681950.3238999993, 1378759.4607999995),\n (-1681970.1796000004, 1378846.1721),\n (-1682014.9889000002, 1378900.0916),\n (-1682081.5940000005, 1378994.7477000002),\n (-1682103.6853, 1379013.5592),\n (-1682277.0219, 1379161.3366),\n (-1682460.892000001, 1379335.3388999999),\n (-1682525.1062000003, 1379396.0425000004),\n (-1682548.3399999999, 1379454.1490000002),\n (-1682589.6053999998, 1379557.3789999997),\n (-1682569.7021999992, 1379680.3497000001),\n (-1682549.2882000003, 1379806.8649000004),\n (-1682530.8676999994, 1379842.5362),\n (-1682492.3036000002, 1379917.4123999998),\n (-1682443.4576999992, 1380012.2485999996),\n (-1682334.6934999991, 1380167.5081000002),\n (-1682192.5026999991, 1380252.8607),\n (-1682079.5697000008, 1380262.1898999996),\n (-1681973.8960999995, 1380224.654),\n (-1681776.0583999995, 1380154.5223000003),\n (-1681340.1828000005, 1379969.6917000003),\n (-1680891.6577000003, 1380064.4145999998),\n (-1680551.3451000005, 1380183.8477999996),\n (-1680239.6418999992, 1380346.5023999996),\n (-1679876.5537999999, 1380634.2659),\n (-1679601.3279, 1380953.7702000001),\n (-1679400.7333000004, 1381302.409),\n (-1679294.9464999996, 1381517.0533999996),\n (-1679120.0688000005, 1382045.3574),\n (-1678976.0344999991, 1382559.3366999999),\n (-1678922.3763999995, 1383093.4661999997),\n (-1678922.1300000008, 1383098.9989999998),\n (-1678925.8932000007, 1383226.7377000004),\n (-1678976.8046000004, 1383672.0713999998),\n (-1679036.8885999992, 1383986.0595000004),\n (-1679031.4921000004, 1384395.6189000001),\n (-1678937.5683999993, 1384842.2306000004),\n (-1678838.4343999997, 1385180.4090999998),\n (-1678657.7926000003, 1385826.9738999996),\n (-1678485.9653999992, 1386353.1694),\n (-1678371.5638999995, 1386602.8119),\n (-1678271.4163000006, 1386797.5059000002),\n (-1678206.6489000004, 1386930.9222),\n (-1678115.5065000001, 1387167.7096999995),\n (-1677872.8893999998, 1387891.4201999996),\n (-1677838.4713000003, 1387984.8967000004),\n (-1677744.2060000002, 1388084.1585999997),\n (-1677560.6786000002, 1388196.4150999999),\n (-1677168.8193999995, 1388469.3745),\n (-1677054.2347999997, 1388661.2443000004),\n (-1677045.4503000006, 1388676.0357),\n (-1677035.1173999999, 1388693.4846),\n (-1676992.5210999995, 1388764.9683999997),\n (-1676910.2079000007, 1388903.262),\n (-1676844.2979000006, 1388940.4389000004),\n (-1676816.5497999992, 1388953.8990000002),\n (-1676713.518100001, 1389026.6167000001),\n (-1676709.2559999991, 1389029.3109999998),\n (-1676696.4989, 1389038.1968999999),\n ...]"
     },
     "execution_count": 27,
     "metadata": {},
     "output_type": "execute_result"
    }
   ],
   "source": [
    "sf.shapeRecords()[2].shape.points"
   ],
   "metadata": {
    "collapsed": false,
    "pycharm": {
     "name": "#%%\n"
    }
   }
  },
  {
   "cell_type": "code",
   "execution_count": 28,
   "outputs": [
    {
     "data": {
      "text/plain": "[704900.9243000001, 816309.6355999997, 1044913.3424000001, 1376504.3963999997]"
     },
     "execution_count": 28,
     "metadata": {},
     "output_type": "execute_result"
    }
   ],
   "source": [
    "sf.shapes()[0].bbox\n"
   ],
   "metadata": {
    "collapsed": false,
    "pycharm": {
     "name": "#%%\n"
    }
   }
  },
  {
   "cell_type": "code",
   "execution_count": 29,
   "outputs": [
    {
     "data": {
      "text/plain": "{'STATENS': '01779775',\n 'GEOID': '01',\n 'STUSPS': 'AL',\n 'NAME': 'Alabama',\n 'ALAND': 131173688951.0,\n 'AWATER': 4593686489.0,\n 'INTPTLAT': '+32.7396323',\n 'INTPTLON': '-86.8434593',\n 'OBJECTID': 1,\n 'SHAPE_Leng': 1789844.92299,\n 'SHAPE_Area': 135767382993.0}"
     },
     "execution_count": 29,
     "metadata": {},
     "output_type": "execute_result"
    }
   ],
   "source": [
    "sf.records()[0].as_dict()\n"
   ],
   "metadata": {
    "collapsed": false,
    "pycharm": {
     "name": "#%%\n"
    }
   }
  }
 ],
 "metadata": {
  "kernelspec": {
   "display_name": "Python 3",
   "language": "python",
   "name": "python3"
  },
  "language_info": {
   "codemirror_mode": {
    "name": "ipython",
    "version": 2
   },
   "file_extension": ".py",
   "mimetype": "text/x-python",
   "name": "python",
   "nbconvert_exporter": "python",
   "pygments_lexer": "ipython2",
   "version": "2.7.6"
  }
 },
 "nbformat": 4,
 "nbformat_minor": 0
}