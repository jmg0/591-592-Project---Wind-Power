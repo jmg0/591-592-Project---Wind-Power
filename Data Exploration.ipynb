{
 "cells": [
  {
   "cell_type": "markdown",
   "metadata": {
    "collapsed": true,
    "pycharm": {
     "name": "#%% md\n"
    }
   },
   "source": [
    "# Data Exploration"
   ]
  },
  {
   "cell_type": "markdown",
   "source": [
    "## Imports"
   ],
   "metadata": {
    "collapsed": false
   }
  },
  {
   "cell_type": "code",
   "execution_count": 1,
   "outputs": [],
   "source": [
    "import numpy as np\n",
    "import pandas as pd\n",
    "import requests"
   ],
   "metadata": {
    "collapsed": false,
    "pycharm": {
     "name": "#%%\n"
    }
   }
  },
  {
   "cell_type": "markdown",
   "source": [
    "## USGS Wind Turbine Database\n",
    "Example request response for wind turbine with 'case_id'=3038257. Response data contains turbine ID ('case_id'), rated capacity ('t_cap'), dimensions, coordinates ('xlong' and 'ylat'), and other relevant data. Calling the json() method on the response object gives a list of dictionaries, where each dictionary represents a turbine from the response."
   ],
   "metadata": {
    "collapsed": false
   }
  },
  {
   "cell_type": "code",
   "execution_count": 9,
   "outputs": [
    {
     "data": {
      "text/plain": "{'case_id': 3038257,\n 'faa_ors': '19-022348',\n 'faa_asn': '2011-WTE-22311-OE',\n 'usgs_pr_id': 20977,\n 't_state': 'IA',\n 't_county': 'Story County',\n 't_fips': '19169',\n 'p_name': 'AG Land 4',\n 'p_year': 2012,\n 'p_tnum': 6,\n 'p_cap': 9.6,\n 't_manu': 'GE Wind',\n 't_model': 'GE1.6-82.5',\n 't_cap': 1600,\n 't_hh': 80.0,\n 't_rd': 82.5,\n 't_rsa': 5345.62,\n 't_ttlh': 121.3,\n 't_conf_atr': 3,\n 't_conf_loc': 3,\n 't_img_date': '1/1/2013',\n 't_img_srce': 'NAIP',\n 'xlong': -93.3549,\n 'ylat': 41.90419,\n 'eia_id': None}"
     },
     "execution_count": 9,
     "metadata": {},
     "output_type": "execute_result"
    }
   ],
   "source": [
    "base_path = 'https://eersc.usgs.gov/api/uswtdb/v1/'\n",
    "resp = requests.get(f\"{base_path}turbines?&case_id=eq.3038257\")\n",
    "resp.json()[0]"
   ],
   "metadata": {
    "collapsed": false,
    "pycharm": {
     "name": "#%%\n"
    }
   }
  },
  {
   "cell_type": "markdown",
   "source": [
    "Example request for multiple turbines in USWTDB"
   ],
   "metadata": {
    "collapsed": false,
    "pycharm": {
     "name": "#%% md\n"
    }
   }
  },
  {
   "cell_type": "code",
   "execution_count": 22,
   "outputs": [
    {
     "data": {
      "text/plain": "[{'case_id': 3005443,\n  'faa_ors': None,\n  'faa_asn': None,\n  'usgs_pr_id': 5840,\n  't_state': 'CA',\n  't_county': 'Kern County',\n  't_fips': '6029',\n  'p_name': '251 Wind',\n  'p_year': 1987,\n  'p_tnum': 194,\n  'p_cap': 18.43,\n  't_manu': 'Vestas',\n  't_model': None,\n  't_cap': 95,\n  't_hh': None,\n  't_rd': None,\n  't_rsa': None,\n  't_ttlh': None,\n  't_conf_atr': 2,\n  't_conf_loc': 3,\n  't_img_date': '5/8/2018',\n  't_img_srce': 'Digital Globe',\n  'xlong': -118.35109,\n  'ylat': 35.0919,\n  'eia_id': 52161},\n {'case_id': 3072704,\n  'faa_ors': None,\n  'faa_asn': None,\n  'usgs_pr_id': 5146,\n  't_state': 'CA',\n  't_county': 'Kern County',\n  't_fips': '6029',\n  'p_name': '251 Wind',\n  'p_year': 1987,\n  'p_tnum': 194,\n  'p_cap': 18.43,\n  't_manu': 'Vestas',\n  't_model': None,\n  't_cap': 95,\n  't_hh': None,\n  't_rd': None,\n  't_rsa': None,\n  't_ttlh': None,\n  't_conf_atr': 2,\n  't_conf_loc': 3,\n  't_img_date': '5/8/2018',\n  't_img_srce': 'Digital Globe',\n  'xlong': -118.3642,\n  'ylat': 35.07764,\n  'eia_id': 52161},\n {'case_id': 3072695,\n  'faa_ors': None,\n  'faa_asn': None,\n  'usgs_pr_id': 5143,\n  't_state': 'CA',\n  't_county': 'Kern County',\n  't_fips': '6029',\n  'p_name': '251 Wind',\n  'p_year': 1987,\n  'p_tnum': 194,\n  'p_cap': 18.43,\n  't_manu': 'Vestas',\n  't_model': None,\n  't_cap': 95,\n  't_hh': None,\n  't_rd': None,\n  't_rsa': None,\n  't_ttlh': None,\n  't_conf_atr': 2,\n  't_conf_loc': 3,\n  't_img_date': '5/8/2018',\n  't_img_srce': 'Digital Globe',\n  'xlong': -118.36441,\n  'ylat': 35.07744,\n  'eia_id': 52161},\n {'case_id': 3072661,\n  'faa_ors': None,\n  'faa_asn': None,\n  'usgs_pr_id': 5149,\n  't_state': 'CA',\n  't_county': 'Kern County',\n  't_fips': '6029',\n  'p_name': '251 Wind',\n  'p_year': 1987,\n  'p_tnum': 194,\n  'p_cap': 18.43,\n  't_manu': 'Vestas',\n  't_model': None,\n  't_cap': 95,\n  't_hh': None,\n  't_rd': None,\n  't_rsa': None,\n  't_ttlh': None,\n  't_conf_atr': 2,\n  't_conf_loc': 3,\n  't_img_date': '5/8/2018',\n  't_img_srce': 'Digital Globe',\n  'xlong': -118.36376,\n  'ylat': 35.07791,\n  'eia_id': 52161},\n {'case_id': 3005333,\n  'faa_ors': None,\n  'faa_asn': None,\n  'usgs_pr_id': 5109,\n  't_state': 'CA',\n  't_county': 'Kern County',\n  't_fips': '6029',\n  'p_name': '251 Wind',\n  'p_year': 1987,\n  'p_tnum': 194,\n  'p_cap': 18.43,\n  't_manu': 'Vestas',\n  't_model': None,\n  't_cap': 95,\n  't_hh': None,\n  't_rd': None,\n  't_rsa': None,\n  't_ttlh': None,\n  't_conf_atr': 2,\n  't_conf_loc': 3,\n  't_img_date': '5/8/2018',\n  't_img_srce': 'Digital Globe',\n  'xlong': -118.36869,\n  'ylat': 35.07529,\n  'eia_id': 52161}]"
     },
     "execution_count": 22,
     "metadata": {},
     "output_type": "execute_result"
    }
   ],
   "source": [
    "params = {'offset': 0, 'limit': 5}\n",
    "resp = requests.get(f\"{base_path}turbines\", params=params)\n",
    "turbine_data = resp.json()\n",
    "turbine_data"
   ],
   "metadata": {
    "collapsed": false,
    "pycharm": {
     "name": "#%%\n"
    }
   }
  },
  {
   "cell_type": "markdown",
   "source": [
    "Convert response to DataFrame"
   ],
   "metadata": {
    "collapsed": false,
    "pycharm": {
     "name": "#%% md\n"
    }
   }
  },
  {
   "cell_type": "code",
   "execution_count": 23,
   "outputs": [
    {
     "data": {
      "text/plain": "   case_id faa_ors faa_asn  usgs_pr_id t_state     t_county t_fips    p_name  \\\n0  3005443    None    None        5840      CA  Kern County   6029  251 Wind   \n1  3072704    None    None        5146      CA  Kern County   6029  251 Wind   \n2  3072695    None    None        5143      CA  Kern County   6029  251 Wind   \n3  3072661    None    None        5149      CA  Kern County   6029  251 Wind   \n4  3005333    None    None        5109      CA  Kern County   6029  251 Wind   \n\n   p_year  p_tnum  ...  t_rd t_rsa t_ttlh  t_conf_atr t_conf_loc t_img_date  \\\n0    1987     194  ...  None  None   None           2          3   5/8/2018   \n1    1987     194  ...  None  None   None           2          3   5/8/2018   \n2    1987     194  ...  None  None   None           2          3   5/8/2018   \n3    1987     194  ...  None  None   None           2          3   5/8/2018   \n4    1987     194  ...  None  None   None           2          3   5/8/2018   \n\n      t_img_srce      xlong      ylat  eia_id  \n0  Digital Globe -118.35109  35.09190   52161  \n1  Digital Globe -118.36420  35.07764   52161  \n2  Digital Globe -118.36441  35.07744   52161  \n3  Digital Globe -118.36376  35.07791   52161  \n4  Digital Globe -118.36869  35.07529   52161  \n\n[5 rows x 25 columns]",
      "text/html": "<div>\n<style scoped>\n    .dataframe tbody tr th:only-of-type {\n        vertical-align: middle;\n    }\n\n    .dataframe tbody tr th {\n        vertical-align: top;\n    }\n\n    .dataframe thead th {\n        text-align: right;\n    }\n</style>\n<table border=\"1\" class=\"dataframe\">\n  <thead>\n    <tr style=\"text-align: right;\">\n      <th></th>\n      <th>case_id</th>\n      <th>faa_ors</th>\n      <th>faa_asn</th>\n      <th>usgs_pr_id</th>\n      <th>t_state</th>\n      <th>t_county</th>\n      <th>t_fips</th>\n      <th>p_name</th>\n      <th>p_year</th>\n      <th>p_tnum</th>\n      <th>...</th>\n      <th>t_rd</th>\n      <th>t_rsa</th>\n      <th>t_ttlh</th>\n      <th>t_conf_atr</th>\n      <th>t_conf_loc</th>\n      <th>t_img_date</th>\n      <th>t_img_srce</th>\n      <th>xlong</th>\n      <th>ylat</th>\n      <th>eia_id</th>\n    </tr>\n  </thead>\n  <tbody>\n    <tr>\n      <th>0</th>\n      <td>3005443</td>\n      <td>None</td>\n      <td>None</td>\n      <td>5840</td>\n      <td>CA</td>\n      <td>Kern County</td>\n      <td>6029</td>\n      <td>251 Wind</td>\n      <td>1987</td>\n      <td>194</td>\n      <td>...</td>\n      <td>None</td>\n      <td>None</td>\n      <td>None</td>\n      <td>2</td>\n      <td>3</td>\n      <td>5/8/2018</td>\n      <td>Digital Globe</td>\n      <td>-118.35109</td>\n      <td>35.09190</td>\n      <td>52161</td>\n    </tr>\n    <tr>\n      <th>1</th>\n      <td>3072704</td>\n      <td>None</td>\n      <td>None</td>\n      <td>5146</td>\n      <td>CA</td>\n      <td>Kern County</td>\n      <td>6029</td>\n      <td>251 Wind</td>\n      <td>1987</td>\n      <td>194</td>\n      <td>...</td>\n      <td>None</td>\n      <td>None</td>\n      <td>None</td>\n      <td>2</td>\n      <td>3</td>\n      <td>5/8/2018</td>\n      <td>Digital Globe</td>\n      <td>-118.36420</td>\n      <td>35.07764</td>\n      <td>52161</td>\n    </tr>\n    <tr>\n      <th>2</th>\n      <td>3072695</td>\n      <td>None</td>\n      <td>None</td>\n      <td>5143</td>\n      <td>CA</td>\n      <td>Kern County</td>\n      <td>6029</td>\n      <td>251 Wind</td>\n      <td>1987</td>\n      <td>194</td>\n      <td>...</td>\n      <td>None</td>\n      <td>None</td>\n      <td>None</td>\n      <td>2</td>\n      <td>3</td>\n      <td>5/8/2018</td>\n      <td>Digital Globe</td>\n      <td>-118.36441</td>\n      <td>35.07744</td>\n      <td>52161</td>\n    </tr>\n    <tr>\n      <th>3</th>\n      <td>3072661</td>\n      <td>None</td>\n      <td>None</td>\n      <td>5149</td>\n      <td>CA</td>\n      <td>Kern County</td>\n      <td>6029</td>\n      <td>251 Wind</td>\n      <td>1987</td>\n      <td>194</td>\n      <td>...</td>\n      <td>None</td>\n      <td>None</td>\n      <td>None</td>\n      <td>2</td>\n      <td>3</td>\n      <td>5/8/2018</td>\n      <td>Digital Globe</td>\n      <td>-118.36376</td>\n      <td>35.07791</td>\n      <td>52161</td>\n    </tr>\n    <tr>\n      <th>4</th>\n      <td>3005333</td>\n      <td>None</td>\n      <td>None</td>\n      <td>5109</td>\n      <td>CA</td>\n      <td>Kern County</td>\n      <td>6029</td>\n      <td>251 Wind</td>\n      <td>1987</td>\n      <td>194</td>\n      <td>...</td>\n      <td>None</td>\n      <td>None</td>\n      <td>None</td>\n      <td>2</td>\n      <td>3</td>\n      <td>5/8/2018</td>\n      <td>Digital Globe</td>\n      <td>-118.36869</td>\n      <td>35.07529</td>\n      <td>52161</td>\n    </tr>\n  </tbody>\n</table>\n<p>5 rows × 25 columns</p>\n</div>"
     },
     "execution_count": 23,
     "metadata": {},
     "output_type": "execute_result"
    }
   ],
   "source": [
    "df = pd.DataFrame(turbine_data)\n",
    "df.head()"
   ],
   "metadata": {
    "collapsed": false,
    "pycharm": {
     "name": "#%%\n"
    }
   }
  },
  {
   "cell_type": "markdown",
   "source": [
    "The API will overload if a request corresponds to too many records. We can work around this by calling the API in smaller batches."
   ],
   "metadata": {
    "collapsed": false
   }
  },
  {
   "cell_type": "code",
   "execution_count": 15,
   "outputs": [
    {
     "data": {
      "text/plain": "<Response [200]>"
     },
     "execution_count": 15,
     "metadata": {},
     "output_type": "execute_result"
    }
   ],
   "source": [
    "# Initial call to API with response limit of 50 records\n",
    "turbine_df = pd.DataFrame()\n",
    "offset, limit = 0, 50\n",
    "params = {'offset': offset, 'limit': limit}\n",
    "resp = requests.get(f\"{base_path}turbines\", params=params)\n",
    "turbine_data = resp.json()\n",
    "\n",
    "# This loop calls the API and adds the response records to turbine_df\n",
    "# until it has returned all turbines in the USWTDB\n",
    "while len(turbine_data):\n",
    "    df = pd.DataFrame(turbine_data)\n",
    "    turbine_df = pd.concat([turbine_df, df])\n",
    "    offset += limit\n",
    "    resp = requests.get(f\"{base_path}turbines\", params=params)\n",
    "    turbine_data = resp.json()\n",
    "\n",
    "turbine_data.head()"
   ],
   "metadata": {
    "collapsed": false,
    "pycharm": {
     "name": "#%%\n"
    }
   }
  },
  {
   "cell_type": "markdown",
   "source": [
    "For best practices, here's the above code as a function."
   ],
   "metadata": {
    "collapsed": false,
    "pycharm": {
     "name": "#%% md\n"
    }
   }
  },
  {
   "cell_type": "code",
   "execution_count": 29,
   "outputs": [],
   "source": [
    "\"\"\"\n",
    "Parameters:\n",
    "    offset - record index from which API response should begin; default 0\n",
    "    limit - max number of records to return in each API call; default 50\n",
    "    params - dict of query parameters for API call; default None,\n",
    "             initialized with default offset and limit values\n",
    "\n",
    "Returns:\n",
    "    turbine_df - pandas DataFrame object containing records for all turbines\n",
    "                 corresponding to query\n",
    "\"\"\"\n",
    "def USWTDB_data(offset=0, limit=50, params=None):\n",
    "    base_path = 'https://eersc.usgs.gov/api/uswtdb/v1/'\n",
    "    if not params:\n",
    "        params = {'offset': offset, 'limit': limit}\n",
    "    else:\n",
    "        params['offset'] = params.get('offset', offset)\n",
    "        params['limit'] = params.get('limit', limit)\n",
    "\n",
    "    turbine_df = pd.DataFrame()\n",
    "    resp = requests.get(f\"{base_path}turbines\", params=params)\n",
    "    turbine_data = resp.json()\n",
    "\n",
    "    while len(turbine_data):\n",
    "        df = pd.DataFrame(turbine_data)\n",
    "        turbine_df = pd.concat([turbine_df, df])\n",
    "        offset += limit\n",
    "        resp = requests.get(f\"{base_path}turbines\", params=params)\n",
    "        turbine_data = resp.json()\n",
    "\n",
    "    return turbine_df"
   ],
   "metadata": {
    "collapsed": false,
    "pycharm": {
     "name": "#%%\n"
    }
   }
  }
 ],
 "metadata": {
  "kernelspec": {
   "display_name": "Python 3",
   "language": "python",
   "name": "python3"
  },
  "language_info": {
   "codemirror_mode": {
    "name": "ipython",
    "version": 2
   },
   "file_extension": ".py",
   "mimetype": "text/x-python",
   "name": "python",
   "nbconvert_exporter": "python",
   "pygments_lexer": "ipython2",
   "version": "2.7.6"
  }
 },
 "nbformat": 4,
 "nbformat_minor": 0
}